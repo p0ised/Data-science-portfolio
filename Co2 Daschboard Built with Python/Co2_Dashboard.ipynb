{
 "cells": [
  {
   "cell_type": "markdown",
   "metadata": {},
   "source": [
    "I do not own this project. I Followed the steps to create the dashboard as it was a comprehensive project in my opinion. I followed the steps outligned in the youtube video: [YouTube video](https://youtu.be/uhxiXOTKzfs?si=96piETdSHMl1JrCv)\n"
   ]
  },
  {
   "cell_type": "code",
   "execution_count": 22,
   "metadata": {},
   "outputs": [
    {
     "data": {
      "application/javascript": "(function(root) {\n  function now() {\n    return new Date();\n  }\n\n  var force = true;\n  var py_version = '3.2.2'.replace('rc', '-rc.').replace('.dev', '-dev.');\n  var is_dev = py_version.indexOf(\"+\") !== -1 || py_version.indexOf(\"-\") !== -1;\n  var reloading = true;\n  var Bokeh = root.Bokeh;\n  var bokeh_loaded = Bokeh != null && (Bokeh.version === py_version || (Bokeh.versions !== undefined && Bokeh.versions.has(py_version)));\n\n  if (typeof (root._bokeh_timeout) === \"undefined\" || force) {\n    root._bokeh_timeout = Date.now() + 5000;\n    root._bokeh_failed_load = false;\n  }\n\n  function run_callbacks() {\n    try {\n      root._bokeh_onload_callbacks.forEach(function(callback) {\n        if (callback != null)\n          callback();\n      });\n    } finally {\n      delete root._bokeh_onload_callbacks;\n    }\n    console.debug(\"Bokeh: all callbacks have finished\");\n  }\n\n  function load_libs(css_urls, js_urls, js_modules, js_exports, callback) {\n    if (css_urls == null) css_urls = [];\n    if (js_urls == null) js_urls = [];\n    if (js_modules == null) js_modules = [];\n    if (js_exports == null) js_exports = {};\n\n    root._bokeh_onload_callbacks.push(callback);\n\n    if (root._bokeh_is_loading > 0) {\n      console.debug(\"Bokeh: BokehJS is being loaded, scheduling callback at\", now());\n      return null;\n    }\n    if (js_urls.length === 0 && js_modules.length === 0 && Object.keys(js_exports).length === 0) {\n      run_callbacks();\n      return null;\n    }\n    if (!reloading) {\n      console.debug(\"Bokeh: BokehJS not loaded, scheduling load and callback at\", now());\n    }\n\n    function on_load() {\n      root._bokeh_is_loading--;\n      if (root._bokeh_is_loading === 0) {\n        console.debug(\"Bokeh: all BokehJS libraries/stylesheets loaded\");\n        run_callbacks()\n      }\n    }\n    window._bokeh_on_load = on_load\n\n    function on_error() {\n      console.error(\"failed to load \" + url);\n    }\n\n    var skip = [];\n    if (window.requirejs) {\n      window.requirejs.config({'packages': {}, 'paths': {'tabulator': 'https://cdn.jsdelivr.net/npm/tabulator-tables@5.5.0/dist/js/tabulator', 'moment': 'https://cdn.jsdelivr.net/npm/luxon/build/global/luxon.min', 'jspanel': 'https://cdn.jsdelivr.net/npm/jspanel4@4.12.0/dist/jspanel', 'jspanel-modal': 'https://cdn.jsdelivr.net/npm/jspanel4@4.12.0/dist/extensions/modal/jspanel.modal', 'jspanel-tooltip': 'https://cdn.jsdelivr.net/npm/jspanel4@4.12.0/dist/extensions/tooltip/jspanel.tooltip', 'jspanel-hint': 'https://cdn.jsdelivr.net/npm/jspanel4@4.12.0/dist/extensions/hint/jspanel.hint', 'jspanel-layout': 'https://cdn.jsdelivr.net/npm/jspanel4@4.12.0/dist/extensions/layout/jspanel.layout', 'jspanel-contextmenu': 'https://cdn.jsdelivr.net/npm/jspanel4@4.12.0/dist/extensions/contextmenu/jspanel.contextmenu', 'jspanel-dock': 'https://cdn.jsdelivr.net/npm/jspanel4@4.12.0/dist/extensions/dock/jspanel.dock', 'gridstack': 'https://cdn.jsdelivr.net/npm/gridstack@7.2.3/dist/gridstack-all', 'notyf': 'https://cdn.jsdelivr.net/npm/notyf@3/notyf.min'}, 'shim': {'jspanel': {'exports': 'jsPanel'}, 'gridstack': {'exports': 'GridStack'}}});\n      require([\"tabulator\"], function(Tabulator) {\n\twindow.Tabulator = Tabulator\n\ton_load()\n      })\n      require([\"moment\"], function(moment) {\n\twindow.moment = moment\n\ton_load()\n      })\n      require([\"jspanel\"], function(jsPanel) {\n\twindow.jsPanel = jsPanel\n\ton_load()\n      })\n      require([\"jspanel-modal\"], function() {\n\ton_load()\n      })\n      require([\"jspanel-tooltip\"], function() {\n\ton_load()\n      })\n      require([\"jspanel-hint\"], function() {\n\ton_load()\n      })\n      require([\"jspanel-layout\"], function() {\n\ton_load()\n      })\n      require([\"jspanel-contextmenu\"], function() {\n\ton_load()\n      })\n      require([\"jspanel-dock\"], function() {\n\ton_load()\n      })\n      require([\"gridstack\"], function(GridStack) {\n\twindow.GridStack = GridStack\n\ton_load()\n      })\n      require([\"notyf\"], function() {\n\ton_load()\n      })\n      root._bokeh_is_loading = css_urls.length + 11;\n    } else {\n      root._bokeh_is_loading = css_urls.length + js_urls.length + js_modules.length + Object.keys(js_exports).length;\n    }\n\n    var existing_stylesheets = []\n    var links = document.getElementsByTagName('link')\n    for (var i = 0; i < links.length; i++) {\n      var link = links[i]\n      if (link.href != null) {\n\texisting_stylesheets.push(link.href)\n      }\n    }\n    for (var i = 0; i < css_urls.length; i++) {\n      var url = css_urls[i];\n      if (existing_stylesheets.indexOf(url) !== -1) {\n\ton_load()\n\tcontinue;\n      }\n      const element = document.createElement(\"link\");\n      element.onload = on_load;\n      element.onerror = on_error;\n      element.rel = \"stylesheet\";\n      element.type = \"text/css\";\n      element.href = url;\n      console.debug(\"Bokeh: injecting link tag for BokehJS stylesheet: \", url);\n      document.body.appendChild(element);\n    }    if (((window['Tabulator'] !== undefined) && (!(window['Tabulator'] instanceof HTMLElement))) || window.requirejs) {\n      var urls = ['https://cdn.holoviz.org/panel/1.2.1/dist/bundled/datatabulator/tabulator-tables@5.5.0/dist/js/tabulator.js'];\n      for (var i = 0; i < urls.length; i++) {\n        skip.push(urls[i])\n      }\n    }    if (((window['moment'] !== undefined) && (!(window['moment'] instanceof HTMLElement))) || window.requirejs) {\n      var urls = ['https://cdn.holoviz.org/panel/1.2.1/dist/bundled/datatabulator/luxon/build/global/luxon.min.js'];\n      for (var i = 0; i < urls.length; i++) {\n        skip.push(urls[i])\n      }\n    }    if (((window['jsPanel'] !== undefined) && (!(window['jsPanel'] instanceof HTMLElement))) || window.requirejs) {\n      var urls = ['https://cdn.holoviz.org/panel/1.2.1/dist/bundled/floatpanel/jspanel4@4.12.0/dist/jspanel.js', 'https://cdn.holoviz.org/panel/1.2.1/dist/bundled/floatpanel/jspanel4@4.12.0/dist/extensions/modal/jspanel.modal.js', 'https://cdn.holoviz.org/panel/1.2.1/dist/bundled/floatpanel/jspanel4@4.12.0/dist/extensions/tooltip/jspanel.tooltip.js', 'https://cdn.holoviz.org/panel/1.2.1/dist/bundled/floatpanel/jspanel4@4.12.0/dist/extensions/hint/jspanel.hint.js', 'https://cdn.holoviz.org/panel/1.2.1/dist/bundled/floatpanel/jspanel4@4.12.0/dist/extensions/layout/jspanel.layout.js', 'https://cdn.holoviz.org/panel/1.2.1/dist/bundled/floatpanel/jspanel4@4.12.0/dist/extensions/contextmenu/jspanel.contextmenu.js', 'https://cdn.holoviz.org/panel/1.2.1/dist/bundled/floatpanel/jspanel4@4.12.0/dist/extensions/dock/jspanel.dock.js'];\n      for (var i = 0; i < urls.length; i++) {\n        skip.push(urls[i])\n      }\n    }    if (((window['GridStack'] !== undefined) && (!(window['GridStack'] instanceof HTMLElement))) || window.requirejs) {\n      var urls = ['https://cdn.holoviz.org/panel/1.2.1/dist/bundled/gridstack/gridstack@7.2.3/dist/gridstack-all.js'];\n      for (var i = 0; i < urls.length; i++) {\n        skip.push(urls[i])\n      }\n    }    if (((window['Notyf'] !== undefined) && (!(window['Notyf'] instanceof HTMLElement))) || window.requirejs) {\n      var urls = ['https://cdn.holoviz.org/panel/1.2.1/dist/bundled/notificationarea/notyf@3/notyf.min.js'];\n      for (var i = 0; i < urls.length; i++) {\n        skip.push(urls[i])\n      }\n    }    var existing_scripts = []\n    var scripts = document.getElementsByTagName('script')\n    for (var i = 0; i < scripts.length; i++) {\n      var script = scripts[i]\n      if (script.src != null) {\n\texisting_scripts.push(script.src)\n      }\n    }\n    for (var i = 0; i < js_urls.length; i++) {\n      var url = js_urls[i];\n      if (skip.indexOf(url) !== -1 || existing_scripts.indexOf(url) !== -1) {\n\tif (!window.requirejs) {\n\t  on_load();\n\t}\n\tcontinue;\n      }\n      var element = document.createElement('script');\n      element.onload = on_load;\n      element.onerror = on_error;\n      element.async = false;\n      element.src = url;\n      console.debug(\"Bokeh: injecting script tag for BokehJS library: \", url);\n      document.head.appendChild(element);\n    }\n    for (var i = 0; i < js_modules.length; i++) {\n      var url = js_modules[i];\n      if (skip.indexOf(url) !== -1 || existing_scripts.indexOf(url) !== -1) {\n\tif (!window.requirejs) {\n\t  on_load();\n\t}\n\tcontinue;\n      }\n      var element = document.createElement('script');\n      element.onload = on_load;\n      element.onerror = on_error;\n      element.async = false;\n      element.src = url;\n      element.type = \"module\";\n      console.debug(\"Bokeh: injecting script tag for BokehJS library: \", url);\n      document.head.appendChild(element);\n    }\n    for (const name in js_exports) {\n      var url = js_exports[name];\n      if (skip.indexOf(url) >= 0 || root[name] != null) {\n\tif (!window.requirejs) {\n\t  on_load();\n\t}\n\tcontinue;\n      }\n      var element = document.createElement('script');\n      element.onerror = on_error;\n      element.async = false;\n      element.type = \"module\";\n      console.debug(\"Bokeh: injecting script tag for BokehJS library: \", url);\n      element.textContent = `\n      import ${name} from \"${url}\"\n      window.${name} = ${name}\n      window._bokeh_on_load()\n      `\n      document.head.appendChild(element);\n    }\n    if (!js_urls.length && !js_modules.length) {\n      on_load()\n    }\n  };\n\n  function inject_raw_css(css) {\n    const element = document.createElement(\"style\");\n    element.appendChild(document.createTextNode(css));\n    document.body.appendChild(element);\n  }\n\n  var js_urls = [\"https://cdn.holoviz.org/panel/1.2.1/dist/bundled/datatabulator/tabulator-tables@5.5.0/dist/js/tabulator.js\", \"https://cdn.holoviz.org/panel/1.2.1/dist/bundled/datatabulator/luxon/build/global/luxon.min.js\"];\n  var js_modules = [];\n  var js_exports = {};\n  var css_urls = [\"https://cdn.holoviz.org/panel/1.2.1/dist/bundled/datatabulator/tabulator-tables@5.5.0/dist/css/tabulator_fast.min.css\"];\n  var inline_js = [    function(Bokeh) {\n      inject_raw_css(\".tabulator {\\n  position: relative;\\n  border: 1px solid var(--neutral-divider-rest);\\n  background-color: var(--fill-color);\\n  font-size: 14px;\\n  text-align: left;\\n  overflow: hidden;\\n  -webkit-transform: translateZ(0);\\n  -moz-transform: translateZ(0);\\n  -ms-transform: translateZ(0);\\n  -o-transform: translateZ(0);\\n  transform: translateZ(0);\\n}\\n.tabulator[tabulator-layout='fitDataFill']\\n  .tabulator-tableholder\\n  .tabulator-table {\\n  min-width: 100%;\\n}\\n.tabulator[tabulator-layout='fitDataTable'] {\\n  display: inline-block;\\n}\\n.tabulator.tabulator-block-select {\\n  user-select: none;\\n}\\n.tabulator .tabulator-header {\\n  position: relative;\\n  box-sizing: border-box;\\n  width: 100%;\\n  border-bottom: 2px solid var(--accent-fill-rest);\\n  background-color: var(--fill-color);\\n  color: var(--neutral-foreground-rest);\\n  font-weight: bold;\\n  white-space: nowrap;\\n  overflow: hidden;\\n  -moz-user-select: none;\\n  -khtml-user-select: none;\\n  -webkit-user-select: none;\\n  -o-user-select: none;\\n}\\n.tabulator .tabulator-header.tabulator-header-hidden {\\n  display: none;\\n}\\n.tabulator .tabulator-header .tabulator-header-contents {\\n  position: relative;\\n  overflow: hidden;\\n}\\n.tabulator .tabulator-header .tabulator-header-contents .tabulator-headers {\\n  display: inline-block;\\n}\\n.tabulator .tabulator-header .tabulator-col {\\n  display: inline-flex;\\n  position: relative;\\n  box-sizing: border-box;\\n  flex-direction: column;\\n  justify-content: flex-start;\\n  border-right: 1px solid var(--neutral-stroke-divider-rest);\\n  background: var(--fill-color);\\n  text-align: left;\\n  vertical-align: bottom;\\n  overflow: hidden;\\n}\\n.tabulator .tabulator-header .tabulator-col.tabulator-moving {\\n  position: absolute;\\n  border: 1px solid var(--neutral-divider-rest);\\n  background: var(--fill-color);\\n  pointer-events: none;\\n}\\n.tabulator .tabulator-header .tabulator-col .tabulator-col-content {\\n  box-sizing: border-box;\\n  position: relative;\\n  padding: 4px;\\n}\\n.tabulator\\n  .tabulator-header\\n  .tabulator-col\\n  .tabulator-col-content\\n  .tabulator-header-popup-button {\\n  padding: 0 8px;\\n}\\n.tabulator\\n  .tabulator-header\\n  .tabulator-col\\n  .tabulator-col-content\\n  .tabulator-header-popup-button:hover {\\n  cursor: pointer;\\n  opacity: 0.6;\\n}\\n.tabulator\\n  .tabulator-header\\n  .tabulator-col\\n  .tabulator-col-content\\n  .tabulator-col-title-holder {\\n  position: relative;\\n}\\n.tabulator\\n  .tabulator-header\\n  .tabulator-col\\n  .tabulator-col-content\\n  .tabulator-col-title {\\n  box-sizing: border-box;\\n  width: 100%;\\n  white-space: nowrap;\\n  overflow: hidden;\\n  text-overflow: ellipsis;\\n  vertical-align: bottom;\\n}\\n.tabulator\\n  .tabulator-header\\n  .tabulator-col\\n  .tabulator-col-content\\n  .tabulator-col-title.tabulator-col-title-wrap {\\n  white-space: normal;\\n  text-overflow: initial;\\n}\\n.tabulator\\n  .tabulator-header\\n  .tabulator-col\\n  .tabulator-col-content\\n  .tabulator-col-title\\n  .tabulator-title-editor {\\n  box-sizing: border-box;\\n  width: 100%;\\n  border: 1px solid #999;\\n  padding: 1px;\\n  background: #fff;\\n}\\n.tabulator\\n  .tabulator-header\\n  .tabulator-col\\n  .tabulator-col-content\\n  .tabulator-col-title\\n  .tabulator-header-popup-button\\n  + .tabulator-title-editor {\\n  width: calc(100% - 22px);\\n}\\n.tabulator\\n  .tabulator-header\\n  .tabulator-col\\n  .tabulator-col-content\\n  .tabulator-col-sorter {\\n  display: flex;\\n  align-items: center;\\n  position: absolute;\\n  top: 0;\\n  bottom: 0;\\n  right: 4px;\\n}\\n.tabulator\\n  .tabulator-header\\n  .tabulator-col\\n  .tabulator-col-content\\n  .tabulator-col-sorter\\n  .tabulator-arrow {\\n  width: 0;\\n  height: 0;\\n  border-left: 6px solid transparent;\\n  border-right: 6px solid transparent;\\n  border-bottom: 6px solid #bbb;\\n}\\n.tabulator\\n  .tabulator-header\\n  .tabulator-col.tabulator-col-group\\n  .tabulator-col-group-cols {\\n  position: relative;\\n  display: flex;\\n  border-top: 1px solid var(--accent-fill-rest);\\n  overflow: hidden;\\n  margin-right: -1px;\\n}\\n.tabulator .tabulator-header .tabulator-col .tabulator-header-filter {\\n  position: relative;\\n  box-sizing: border-box;\\n  margin-top: 2px;\\n  width: 100%;\\n  text-align: center;\\n}\\n.tabulator .tabulator-header .tabulator-col .tabulator-header-filter textarea {\\n  height: auto !important;\\n}\\n.tabulator .tabulator-header .tabulator-col .tabulator-header-filter svg {\\n  margin-top: 3px;\\n}\\n.tabulator\\n  .tabulator-header\\n  .tabulator-col\\n  .tabulator-header-filter\\n  input::-ms-clear {\\n  width: 0;\\n  height: 0;\\n}\\n.tabulator\\n  .tabulator-header\\n  .tabulator-col.tabulator-sortable\\n  .tabulator-col-title {\\n  padding-right: 25px;\\n}\\n.tabulator\\n  .tabulator-header\\n  .tabulator-col.tabulator-sortable.tabulator-col-sorter-element:hover {\\n  cursor: pointer;\\n  background-color: var(--fill-color);\\n}\\n.tabulator\\n  .tabulator-header\\n  .tabulator-col.tabulator-sortable[aria-sort='none']\\n  .tabulator-col-content\\n  .tabulator-col-sorter {\\n  color: #bbb;\\n}\\n.tabulator\\n  .tabulator-header\\n  .tabulator-col.tabulator-sortable[aria-sort='none']\\n  .tabulator-col-content\\n  .tabulator-col-sorter.tabulator-col-sorter-element\\n  .tabulator-arrow:hover {\\n  cursor: pointer;\\n  border-bottom: 6px solid #555;\\n}\\n.tabulator\\n  .tabulator-header\\n  .tabulator-col.tabulator-sortable[aria-sort='none']\\n  .tabulator-col-content\\n  .tabulator-col-sorter\\n  .tabulator-arrow {\\n  border-top: none;\\n  border-bottom: 6px solid #bbb;\\n}\\n.tabulator\\n  .tabulator-header\\n  .tabulator-col.tabulator-sortable[aria-sort='ascending']\\n  .tabulator-col-content\\n  .tabulator-col-sorter {\\n  color: #666;\\n}\\n.tabulator\\n  .tabulator-header\\n  .tabulator-col.tabulator-sortable[aria-sort='ascending']\\n  .tabulator-col-content\\n  .tabulator-col-sorter.tabulator-col-sorter-element\\n  .tabulator-arrow:hover {\\n  cursor: pointer;\\n  border-bottom: 6px solid #555;\\n}\\n.tabulator\\n  .tabulator-header\\n  .tabulator-col.tabulator-sortable[aria-sort='ascending']\\n  .tabulator-col-content\\n  .tabulator-col-sorter\\n  .tabulator-arrow {\\n  border-top: none;\\n  border-bottom: 6px solid #666;\\n}\\n.tabulator\\n  .tabulator-header\\n  .tabulator-col.tabulator-sortable[aria-sort='descending']\\n  .tabulator-col-content\\n  .tabulator-col-sorter {\\n  color: #666;\\n}\\n.tabulator\\n  .tabulator-header\\n  .tabulator-col.tabulator-sortable[aria-sort='descending']\\n  .tabulator-col-content\\n  .tabulator-col-sorter.tabulator-col-sorter-element\\n  .tabulator-arrow:hover {\\n  cursor: pointer;\\n  border-top: 6px solid #555;\\n}\\n.tabulator\\n  .tabulator-header\\n  .tabulator-col.tabulator-sortable[aria-sort='descending']\\n  .tabulator-col-content\\n  .tabulator-col-sorter\\n  .tabulator-arrow {\\n  border-bottom: none;\\n  border-top: 6px solid #666;\\n  color: #666;\\n}\\n.tabulator\\n  .tabulator-header\\n  .tabulator-col.tabulator-col-vertical\\n  .tabulator-col-content\\n  .tabulator-col-title {\\n  writing-mode: vertical-rl;\\n  text-orientation: mixed;\\n  display: flex;\\n  align-items: center;\\n  justify-content: center;\\n}\\n.tabulator\\n  .tabulator-header\\n  .tabulator-col.tabulator-col-vertical.tabulator-col-vertical-flip\\n  .tabulator-col-title {\\n  transform: rotate(180deg);\\n}\\n.tabulator\\n  .tabulator-header\\n  .tabulator-col.tabulator-col-vertical.tabulator-sortable\\n  .tabulator-col-title {\\n  padding-right: 0;\\n  padding-top: 20px;\\n}\\n.tabulator\\n  .tabulator-header\\n  .tabulator-col.tabulator-col-vertical.tabulator-sortable.tabulator-col-vertical-flip\\n  .tabulator-col-title {\\n  padding-right: 0;\\n  padding-bottom: 20px;\\n}\\n.tabulator\\n  .tabulator-header\\n  .tabulator-col.tabulator-col-vertical.tabulator-sortable\\n  .tabulator-col-sorter {\\n  justify-content: center;\\n  left: 0;\\n  right: 0;\\n  top: 4px;\\n  bottom: auto;\\n}\\n.tabulator .tabulator-header .tabulator-frozen {\\n  position: sticky;\\n  left: 0;\\n  z-index: 10;\\n}\\n.tabulator .tabulator-header .tabulator-frozen.tabulator-frozen-left {\\n  border-right: 2px solid var(--neutral-divider-rest);\\n}\\n.tabulator .tabulator-header .tabulator-frozen.tabulator-frozen-right {\\n  border-left: 2px solid var(--neutral-divider-rest);\\n}\\n.tabulator .tabulator-header .tabulator-calcs-holder {\\n  box-sizing: border-box;\\n  background: var(--fill-color) !important;\\n  border-top: 1px solid var(--neutral-divider-rest);\\n  border-bottom: 1px solid var(--accent-fill-rest);\\n}\\n.tabulator .tabulator-header .tabulator-calcs-holder .tabulator-row {\\n  background: var(--fill-color) !important;\\n}\\n.tabulator\\n  .tabulator-header\\n  .tabulator-calcs-holder\\n  .tabulator-row\\n  .tabulator-col-resize-handle {\\n  display: none;\\n}\\n.tabulator .tabulator-header .tabulator-frozen-rows-holder:empty {\\n  display: none;\\n}\\n.tabulator .tabulator-tableholder {\\n  position: relative;\\n  width: 100%;\\n  white-space: nowrap;\\n  overflow: auto;\\n  -webkit-overflow-scrolling: touch;\\n}\\n.tabulator .tabulator-tableholder:focus {\\n  outline: none;\\n}\\n.tabulator .tabulator-tableholder .tabulator-placeholder {\\n  box-sizing: border-box;\\n  display: flex;\\n  align-items: center;\\n  justify-content: center;\\n  width: 100%;\\n}\\n.tabulator\\n  .tabulator-tableholder\\n  .tabulator-placeholder[tabulator-render-mode='virtual'] {\\n  min-height: 100%;\\n  min-width: 100%;\\n}\\n.tabulator\\n  .tabulator-tableholder\\n  .tabulator-placeholder\\n  .tabulator-placeholder-contents {\\n  display: inline-block;\\n  text-align: center;\\n  padding: 10px;\\n  color: #ccc;\\n  font-weight: bold;\\n  font-size: 20px;\\n  white-space: normal;\\n}\\n.tabulator .tabulator-tableholder .tabulator-table {\\n  position: relative;\\n  display: inline-block;\\n  background-color: var(--fill-color);\\n  white-space: nowrap;\\n  overflow: visible;\\n  color: var(--neutral-foreground-rest);\\n}\\n.tabulator\\n  .tabulator-tableholder\\n  .tabulator-table\\n  .tabulator-row.tabulator-calcs {\\n  font-weight: bold;\\n  background: var(--neutral-fill-rest) !important;\\n}\\n.tabulator\\n  .tabulator-tableholder\\n  .tabulator-table\\n  .tabulator-row.tabulator-calcs.tabulator-calcs-top {\\n  border-bottom: 2px solid var(--neutral-divider-rest);\\n}\\n.tabulator\\n  .tabulator-tableholder\\n  .tabulator-table\\n  .tabulator-row.tabulator-calcs.tabulator-calcs-bottom {\\n  border-top: 2px solid var(--neutral-divider-rest);\\n}\\n.tabulator .tabulator-footer {\\n  border-top: 1px solid var(--neutral-divider-rest);\\n  background-color: var(--fill-color);\\n  color: var(--neutral-foreground-rest);\\n  font-weight: bold;\\n  white-space: nowrap;\\n  user-select: none;\\n  -moz-user-select: none;\\n  -khtml-user-select: none;\\n  -webkit-user-select: none;\\n  -o-user-select: none;\\n}\\n.tabulator .tabulator-footer .tabulator-footer-contents {\\n  display: flex;\\n  flex-direction: row;\\n  align-items: center;\\n  justify-content: space-between;\\n  padding: 5px 10px;\\n}\\n.tabulator .tabulator-footer .tabulator-footer-contents:empty {\\n  display: none;\\n}\\n.tabulator .tabulator-footer .tabulator-calcs-holder {\\n  box-sizing: border-box;\\n  width: 100%;\\n  text-align: left;\\n  background: var(--fill-color) !important;\\n  border-bottom: 1px solid var(--neutral-divider-rest);\\n  border-top: 1px solid var(--neutral-divider-rest);\\n  overflow: hidden;\\n}\\n.tabulator .tabulator-footer .tabulator-calcs-holder .tabulator-row {\\n  display: inline-block;\\n  background: var(--fill-color) !important;\\n}\\n.tabulator\\n  .tabulator-footer\\n  .tabulator-calcs-holder\\n  .tabulator-row\\n  .tabulator-col-resize-handle {\\n  display: none;\\n}\\n.tabulator .tabulator-footer .tabulator-calcs-holder:only-child {\\n  margin-bottom: -5px;\\n  border-bottom: none;\\n}\\n.tabulator .tabulator-footer > * + .tabulator-page-counter {\\n  margin-left: 10px;\\n}\\n.tabulator .tabulator-footer .tabulator-page-counter {\\n  font-weight: normal;\\n}\\n.tabulator .tabulator-footer .tabulator-paginator {\\n  flex: 1;\\n  text-align: right;\\n  color: var(--neutral-foreground-rest);\\n  font-family: inherit;\\n  font-weight: inherit;\\n  font-size: inherit;\\n}\\n.tabulator .tabulator-footer .tabulator-page-size {\\n  display: inline-block;\\n  margin: 0 5px;\\n  padding: 2px 5px;\\n  border: 1px solid var(--accent-fill-rest);\\n  border-radius: 3px;\\n}\\n.tabulator .tabulator-footer .tabulator-pages {\\n  margin: 0 7px;\\n}\\n.tabulator .tabulator-footer .tabulator-page {\\n  display: inline-block;\\n  margin: 0 2px;\\n  padding: 2px 5px;\\n  border: 1px solid var(--accent-fill-rest);\\n  border-radius: 3px;\\n  background: rgba(255, 255, 255, 0.2);\\n}\\n.tabulator .tabulator-footer .tabulator-page.active {\\n  color: var(--neutral-foreground-active);\\n}\\n.tabulator .tabulator-footer .tabulator-page:disabled {\\n  opacity: 0.5;\\n}\\n.tabulator .tabulator-footer .tabulator-page:not(.disabled):hover {\\n  cursor: pointer;\\n  background: rgba(0, 0, 0, 0.2);\\n  color: #fff;\\n}\\n.tabulator .tabulator-col-resize-handle {\\n  position: relative;\\n  display: inline-block;\\n  width: 6px;\\n  margin-left: -3px;\\n  margin-right: -3px;\\n  z-index: 10;\\n  vertical-align: middle;\\n}\\n.tabulator .tabulator-col-resize-handle:hover {\\n  cursor: ew-resize;\\n}\\n.tabulator .tabulator-col-resize-handle:last-of-type {\\n  width: 3px;\\n  margin-right: 0;\\n}\\n.tabulator .tabulator-alert {\\n  position: absolute;\\n  display: flex;\\n  align-items: center;\\n  top: 0;\\n  left: 0;\\n  z-index: 100;\\n  height: 100%;\\n  width: 100%;\\n  background: rgba(0, 0, 0, 0.4);\\n  text-align: center;\\n}\\n.tabulator .tabulator-alert .tabulator-alert-msg {\\n  display: inline-block;\\n  margin: 0 auto;\\n  padding: 10px 20px;\\n  border-radius: 10px;\\n  background: #fff;\\n  font-weight: bold;\\n  font-size: 16px;\\n}\\n.tabulator .tabulator-alert .tabulator-alert-msg.tabulator-alert-state-msg {\\n  border: 4px solid #333;\\n  color: #000;\\n}\\n.tabulator .tabulator-alert .tabulator-alert-msg.tabulator-alert-state-error {\\n  border: 4px solid #d00;\\n  color: #590000;\\n}\\n\\n.tabulator-row {\\n  position: relative;\\n  box-sizing: border-box;\\n  min-height: 22px;\\n  background-color: var(--fill-color);\\n}\\n.tabulator-row.tabulator-row-even {\\n  background-color: var(--neutral-fill-rest);\\n}\\n.tabulator-row.tabulator-selectable:hover {\\n  background-color: var(--accent-fill-hover);\\n  color: var(--foreground-on-accent-hover);\\n  cursor: pointer;\\n}\\n.tabulator-row.tabulator-selected {\\n  background-color: var(--accent-fill-active);\\n  color: var(--foreground-on-accent-rest);\\n}\\n.tabulator-row.tabulator-selected:hover {\\n  background-color: var(--accent-fill-hover);\\n  cursor: pointer;\\n}\\n.tabulator-row.tabulator-row-moving {\\n  border: 1px solid #000;\\n  background: #fff;\\n}\\n.tabulator-row.tabulator-moving {\\n  position: absolute;\\n  border-top: 1px solid var(--neutral-divider-rest);\\n  border-bottom: 1px solid var(--neutral-divider-rest);\\n  pointer-events: none;\\n  z-index: 15;\\n}\\n.tabulator-row .tabulator-row-resize-handle {\\n  position: absolute;\\n  right: 0;\\n  bottom: 0;\\n  left: 0;\\n  height: 5px;\\n}\\n.tabulator-row .tabulator-row-resize-handle.prev {\\n  top: 0;\\n  bottom: auto;\\n}\\n.tabulator-row .tabulator-row-resize-handle:hover {\\n  cursor: ns-resize;\\n}\\n.tabulator-row .tabulator-responsive-collapse {\\n  box-sizing: border-box;\\n  padding: 5px;\\n  border-top: 1px solid var(--neutral-divider-rest);\\n  border-bottom: 1px solid var(--neutral-divider-rest);\\n}\\n.tabulator-row .tabulator-responsive-collapse:empty {\\n  display: none;\\n}\\n.tabulator-row .tabulator-responsive-collapse table {\\n  font-size: 14px;\\n}\\n.tabulator-row .tabulator-responsive-collapse table tr td {\\n  position: relative;\\n}\\n.tabulator-row .tabulator-responsive-collapse table tr td:first-of-type {\\n  padding-right: 10px;\\n}\\n.tabulator-row .tabulator-cell {\\n  display: inline-block;\\n  position: relative;\\n  box-sizing: border-box;\\n  padding: 4px;\\n  border-right: 1px solid var(--neutral-divider-rest);\\n  vertical-align: middle;\\n  white-space: nowrap;\\n  overflow: hidden;\\n  text-overflow: ellipsis;\\n}\\n.tabulator-row .tabulator-cell.tabulator-frozen {\\n  display: inline-block;\\n  position: sticky;\\n  left: 0;\\n  background-color: inherit;\\n  z-index: 10;\\n}\\n.tabulator-row .tabulator-cell.tabulator-frozen.tabulator-frozen-left {\\n  border-right: 2px solid var(--neutral-divider-rest);\\n}\\n.tabulator-row .tabulator-cell.tabulator-frozen.tabulator-frozen-right {\\n  border-left: 2px solid var(--neutral-divider-rest);\\n}\\n.tabulator-row .tabulator-cell.tabulator-editing {\\n  border: 1px solid #999;\\n  outline: none;\\n  padding: 0;\\n}\\n.tabulator-row .tabulator-cell.tabulator-editing input,\\n.tabulator-row .tabulator-cell.tabulator-editing select {\\n  border: 1px;\\n  background: transparent;\\n  color: var(--neutral-foreground-rest);\\n  outline: none;\\n}\\n.tabulator-row .tabulator-cell.tabulator-validation-fail {\\n  border: 1px solid #dd0000;\\n}\\n.tabulator-row .tabulator-cell.tabulator-validation-fail input,\\n.tabulator-row .tabulator-cell.tabulator-validation-fail select {\\n  border: 1px;\\n  background: transparent;\\n  color: #dd0000;\\n}\\n.tabulator-row .tabulator-cell.tabulator-row-handle {\\n  display: inline-flex;\\n  align-items: center;\\n  justify-content: center;\\n  -moz-user-select: none;\\n  -khtml-user-select: none;\\n  -webkit-user-select: none;\\n  -o-user-select: none;\\n}\\n.tabulator-row .tabulator-cell.tabulator-row-handle .tabulator-row-handle-box {\\n  width: 80%;\\n}\\n.tabulator-row\\n  .tabulator-cell.tabulator-row-handle\\n  .tabulator-row-handle-box\\n  .tabulator-row-handle-bar {\\n  width: 100%;\\n  height: 3px;\\n  margin-top: 2px;\\n  background: #666;\\n}\\n.tabulator-row .tabulator-cell .tabulator-data-tree-branch {\\n  display: inline-block;\\n  vertical-align: middle;\\n  height: 9px;\\n  width: 7px;\\n  margin-top: -9px;\\n  margin-right: 5px;\\n  border-bottom-left-radius: 1px;\\n  border-left: 2px solid var(--neutral-divider-rest);\\n  border-bottom: 2px solid var(--neutral-divider-rest);\\n}\\n.tabulator-row .tabulator-cell .tabulator-data-tree-control {\\n  display: inline-flex;\\n  justify-content: center;\\n  align-items: center;\\n  vertical-align: middle;\\n  height: 11px;\\n  width: 11px;\\n  margin-right: 5px;\\n  border: 1px solid var(--neutral-foreground-rest);\\n  border-radius: 2px;\\n  background: rgba(0, 0, 0, 0.1);\\n  overflow: hidden;\\n}\\n.tabulator-row .tabulator-cell .tabulator-data-tree-control:hover {\\n  cursor: pointer;\\n  background: rgba(0, 0, 0, 0.2);\\n}\\n.tabulator-row\\n  .tabulator-cell\\n  .tabulator-data-tree-control\\n  .tabulator-data-tree-control-collapse {\\n  display: inline-block;\\n  position: relative;\\n  height: 7px;\\n  width: 1px;\\n  background: transparent;\\n}\\n.tabulator-row\\n  .tabulator-cell\\n  .tabulator-data-tree-control\\n  .tabulator-data-tree-control-collapse:after {\\n  position: absolute;\\n  content: '';\\n  left: -3px;\\n  top: 3px;\\n  height: 1px;\\n  width: 7px;\\n  background: var(--neutral-foreground-rest);\\n}\\n.tabulator-row\\n  .tabulator-cell\\n  .tabulator-data-tree-control\\n  .tabulator-data-tree-control-expand {\\n  display: inline-block;\\n  position: relative;\\n  height: 7px;\\n  width: 1px;\\n  background: var(--neutral-foreground-rest);\\n}\\n.tabulator-row\\n  .tabulator-cell\\n  .tabulator-data-tree-control\\n  .tabulator-data-tree-control-expand:after {\\n  position: absolute;\\n  content: '';\\n  left: -3px;\\n  top: 3px;\\n  height: 1px;\\n  width: 7px;\\n  background: var(--neutral-foreground-rest);\\n}\\n.tabulator-row .tabulator-cell .tabulator-responsive-collapse-toggle {\\n  display: inline-flex;\\n  align-items: center;\\n  justify-content: center;\\n  -moz-user-select: none;\\n  -khtml-user-select: none;\\n  -webkit-user-select: none;\\n  -o-user-select: none;\\n  height: 15px;\\n  width: 15px;\\n  border-radius: 20px;\\n  background: #666;\\n  color: var(--fill-color);\\n  font-weight: bold;\\n  font-size: 1.1em;\\n}\\n.tabulator-row .tabulator-cell .tabulator-responsive-collapse-toggle:hover {\\n  opacity: 0.7;\\n  cursor: pointer;\\n}\\n.tabulator-row\\n  .tabulator-cell\\n  .tabulator-responsive-collapse-toggle.open\\n  .tabulator-responsive-collapse-toggle-close {\\n  display: initial;\\n}\\n.tabulator-row\\n  .tabulator-cell\\n  .tabulator-responsive-collapse-toggle.open\\n  .tabulator-responsive-collapse-toggle-open {\\n  display: none;\\n}\\n.tabulator-row .tabulator-cell .tabulator-responsive-collapse-toggle svg {\\n  stroke: var(--fill-color);\\n}\\n.tabulator-row\\n  .tabulator-cell\\n  .tabulator-responsive-collapse-toggle\\n  .tabulator-responsive-collapse-toggle-close {\\n  display: none;\\n}\\n.tabulator-row .tabulator-cell .tabulator-traffic-light {\\n  display: inline-block;\\n  height: 14px;\\n  width: 14px;\\n  border-radius: 14px;\\n}\\n.tabulator-row.tabulator-group {\\n  box-sizing: border-box;\\n  border-bottom: 1px solid #999;\\n  border-right: 1px solid var(--neutral-divider-rest);\\n  border-top: 1px solid #999;\\n  padding: 5px;\\n  padding-left: 10px;\\n  background: #ccc;\\n  font-weight: bold;\\n  min-width: 100%;\\n}\\n.tabulator-row.tabulator-group:hover {\\n  cursor: pointer;\\n  background-color: rgba(0, 0, 0, 0.1);\\n}\\n.tabulator-row.tabulator-group.tabulator-group-visible .tabulator-arrow {\\n  margin-right: 10px;\\n  border-left: 6px solid transparent;\\n  border-right: 6px solid transparent;\\n  border-top: 6px solid #666;\\n  border-bottom: 0;\\n}\\n.tabulator-row.tabulator-group.tabulator-group-level-1 {\\n  padding-left: 30px;\\n}\\n.tabulator-row.tabulator-group.tabulator-group-level-2 {\\n  padding-left: 50px;\\n}\\n.tabulator-row.tabulator-group.tabulator-group-level-3 {\\n  padding-left: 70px;\\n}\\n.tabulator-row.tabulator-group.tabulator-group-level-4 {\\n  padding-left: 90px;\\n}\\n.tabulator-row.tabulator-group.tabulator-group-level-5 {\\n  padding-left: 110px;\\n}\\n.tabulator-row.tabulator-group .tabulator-group-toggle {\\n  display: inline-block;\\n}\\n.tabulator-row.tabulator-group .tabulator-arrow {\\n  display: inline-block;\\n  width: 0;\\n  height: 0;\\n  margin-right: 16px;\\n  border-top: 6px solid transparent;\\n  border-bottom: 6px solid transparent;\\n  border-right: 0;\\n  border-left: 6px solid #666;\\n  vertical-align: middle;\\n}\\n.tabulator-row.tabulator-group span {\\n  margin-left: 10px;\\n  color: #d00;\\n}\\n\\n.tabulator-popup-container {\\n  position: absolute;\\n  display: inline-block;\\n  box-sizing: border-box;\\n  background: var(--fill-color);\\n  border: 1px solid var(--neutral-divider-rest);\\n  box-shadow: 0 0 5px 0 rgba(0, 0, 0, 0.2);\\n  font-size: 14px;\\n  overflow-y: auto;\\n  -webkit-overflow-scrolling: touch;\\n  z-index: 10000;\\n}\\n\\n.tabulator-popup {\\n  padding: 5px;\\n  border-radius: 3px;\\n}\\n\\n.tabulator-tooltip {\\n  max-width: Min(500px, 100%);\\n  padding: 3px 5px;\\n  border-radius: 2px;\\n  box-shadow: none;\\n  font-size: 12px;\\n  pointer-events: none;\\n}\\n\\n.tabulator-menu .tabulator-menu-item {\\n  position: relative;\\n  box-sizing: border-box;\\n  padding: 5px 10px;\\n  user-select: none;\\n}\\n.tabulator-menu .tabulator-menu-item.tabulator-menu-item-disabled {\\n  opacity: 0.5;\\n}\\n.tabulator-menu .tabulator-menu-item:not(.tabulator-menu-item-disabled):hover {\\n  cursor: pointer;\\n  background: var(--neutral-fill-rest);\\n}\\n.tabulator-menu .tabulator-menu-item.tabulator-menu-item-submenu {\\n  padding-right: 25px;\\n}\\n.tabulator-menu .tabulator-menu-item.tabulator-menu-item-submenu::after {\\n  display: inline-block;\\n  position: absolute;\\n  top: calc(5px + 0.4em);\\n  right: 10px;\\n  height: 7px;\\n  width: 7px;\\n  content: '';\\n  border-width: 1px 1px 0 0;\\n  border-style: solid;\\n  border-color: var(--neutral-divider-rest);\\n  vertical-align: top;\\n  transform: rotate(45deg);\\n}\\n\\n.tabulator-menu .tabulator-menu-separator {\\n  border-top: 1px solid var(--neutral-divider-rest);\\n}\\n\\n.tabulator-edit-list {\\n  max-height: 200px;\\n  font-size: 14px;\\n  overflow-y: auto;\\n  -webkit-overflow-scrolling: touch;\\n}\\n.tabulator-edit-list .tabulator-edit-list-item {\\n  padding: 4px;\\n  color: var(--neutral-foreground-rest);\\n  outline: none;\\n}\\n.tabulator-edit-list .tabulator-edit-list-item.active {\\n  color: var(--fill-color);\\n  background: #999;\\n}\\n.tabulator-edit-list .tabulator-edit-list-item.active.focused {\\n  outline: 1px solid rgba(var(--fill-color), 0.5);\\n}\\n.tabulator-edit-list .tabulator-edit-list-item.focused {\\n  outline: 1px solid #999;\\n}\\n.tabulator-edit-list .tabulator-edit-list-item:hover {\\n  cursor: pointer;\\n  color: var(--fill-color);\\n  background: #999;\\n}\\n.tabulator-edit-list .tabulator-edit-list-placeholder {\\n  padding: 4px;\\n  color: var(--neutral-foreground-rest);\\n  text-align: center;\\n}\\n.tabulator-edit-list .tabulator-edit-list-group {\\n  border-bottom: 1px solid var(--neutral-divider-rest);\\n  padding: 4px;\\n  padding-top: 6px;\\n  color: var(--neutral-foreground-rest);\\n  font-weight: bold;\\n}\\n.tabulator-edit-list\\n  .tabulator-edit-list-item.tabulator-edit-list-group-level-2,\\n.tabulator-edit-list\\n  .tabulator-edit-list-group.tabulator-edit-list-group-level-2 {\\n  padding-left: 12px;\\n}\\n.tabulator-edit-list\\n  .tabulator-edit-list-item.tabulator-edit-list-group-level-3,\\n.tabulator-edit-list\\n  .tabulator-edit-list-group.tabulator-edit-list-group-level-3 {\\n  padding-left: 20px;\\n}\\n.tabulator-edit-list\\n  .tabulator-edit-list-item.tabulator-edit-list-group-level-4,\\n.tabulator-edit-list\\n  .tabulator-edit-list-group.tabulator-edit-list-group-level-4 {\\n  padding-left: 28px;\\n}\\n.tabulator-edit-list\\n  .tabulator-edit-list-item.tabulator-edit-list-group-level-5,\\n.tabulator-edit-list\\n  .tabulator-edit-list-group.tabulator-edit-list-group-level-5 {\\n  padding-left: 36px;\\n}\\n\\n.tabulator.tabulator-ltr {\\n  direction: ltr;\\n}\\n\\n.tabulator.tabulator-rtl {\\n  text-align: initial;\\n  direction: rtl;\\n}\\n.tabulator.tabulator-rtl .tabulator-header .tabulator-col {\\n  text-align: initial;\\n  border-left: 1px solid var(--accent-fill-rest);\\n  border-right: initial;\\n}\\n.tabulator.tabulator-rtl\\n  .tabulator-header\\n  .tabulator-col.tabulator-col-group\\n  .tabulator-col-group-cols {\\n  margin-right: initial;\\n  margin-left: -1px;\\n}\\n.tabulator.tabulator-rtl\\n  .tabulator-header\\n  .tabulator-col.tabulator-sortable\\n  .tabulator-col-title {\\n  padding-right: 0;\\n  padding-left: 25px;\\n}\\n.tabulator.tabulator-rtl\\n  .tabulator-header\\n  .tabulator-col\\n  .tabulator-col-content\\n  .tabulator-col-sorter {\\n  left: 8px;\\n  right: initial;\\n}\\n.tabulator.tabulator-rtl .tabulator-row .tabulator-cell {\\n  border-right: initial;\\n  border-left: 1px solid var(--neutral-divider-rest);\\n}\\n.tabulator.tabulator-rtl\\n  .tabulator-row\\n  .tabulator-cell\\n  .tabulator-data-tree-branch {\\n  margin-right: initial;\\n  margin-left: 5px;\\n  border-bottom-left-radius: initial;\\n  border-bottom-right-radius: 1px;\\n  border-left: initial;\\n  border-right: 2px solid var(--neutral-divider-rest);\\n}\\n.tabulator.tabulator-rtl\\n  .tabulator-row\\n  .tabulator-cell\\n  .tabulator-data-tree-control {\\n  margin-right: initial;\\n  margin-left: 5px;\\n}\\n.tabulator.tabulator-rtl\\n  .tabulator-row\\n  .tabulator-cell.tabulator-frozen.tabulator-frozen-left {\\n  border-left: 2px solid var(--neutral-divider-rest);\\n}\\n.tabulator.tabulator-rtl\\n  .tabulator-row\\n  .tabulator-cell.tabulator-frozen.tabulator-frozen-right {\\n  border-right: 2px solid var(--neutral-divider-rest);\\n}\\n.tabulator.tabulator-rtl\\n  .tabulator-row\\n  .tabulator-col-resize-handle:last-of-type {\\n  width: 3px;\\n  margin-left: 0;\\n  margin-right: -3px;\\n}\\n.tabulator.tabulator-rtl .tabulator-footer .tabulator-calcs-holder {\\n  text-align: initial;\\n}\\n\\n.tabulator-cell a {\\n  color: var(--accent-fill-rest);\\n}\\n.tabulator-cell a:hover {\\n  color: var(--neutral-foreground-rest);\\n}\\n\\n.tabulator-print-fullscreen {\\n  position: absolute;\\n  top: 0;\\n  bottom: 0;\\n  left: 0;\\n  right: 0;\\n  z-index: 10000;\\n}\\n\\nbody.tabulator-print-fullscreen-hide > *:not(.tabulator-print-fullscreen) {\\n  display: none !important;\\n}\\n\\n.tabulator-print-table {\\n  border-collapse: collapse;\\n}\\n.tabulator-print-table .tabulator-data-tree-branch {\\n  display: inline-block;\\n  vertical-align: middle;\\n  height: 9px;\\n  width: 7px;\\n  margin-top: -9px;\\n  margin-right: 5px;\\n  border-bottom-left-radius: 1px;\\n  border-left: 2px solid var(--neutral-divider-rest);\\n  border-bottom: 2px solid var(--neutral-divider-rest);\\n}\\n.tabulator-print-table .tabulator-print-table-group {\\n  box-sizing: border-box;\\n  border-bottom: 1px solid #999;\\n  border-right: 1px solid var(--neutral-divider-rest);\\n  border-top: 1px solid #999;\\n  padding: 5px;\\n  padding-left: 10px;\\n  background: #ccc;\\n  font-weight: bold;\\n  min-width: 100%;\\n}\\n.tabulator-print-table .tabulator-print-table-group:hover {\\n  cursor: pointer;\\n  background-color: rgba(0, 0, 0, 0.1);\\n}\\n.tabulator-print-table\\n  .tabulator-print-table-group.tabulator-group-visible\\n  .tabulator-arrow {\\n  margin-right: 10px;\\n  border-left: 6px solid transparent;\\n  border-right: 6px solid transparent;\\n  border-top: 6px solid #666;\\n  border-bottom: 0;\\n}\\n.tabulator-print-table .tabulator-print-table-group.tabulator-group-level-1 td {\\n  padding-left: 30px !important;\\n}\\n.tabulator-print-table .tabulator-print-table-group.tabulator-group-level-2 td {\\n  padding-left: 50px !important;\\n}\\n.tabulator-print-table .tabulator-print-table-group.tabulator-group-level-3 td {\\n  padding-left: 70px !important;\\n}\\n.tabulator-print-table .tabulator-print-table-group.tabulator-group-level-4 td {\\n  padding-left: 90px !important;\\n}\\n.tabulator-print-table .tabulator-print-table-group.tabulator-group-level-5 td {\\n  padding-left: 110px !important;\\n}\\n.tabulator-print-table .tabulator-print-table-group .tabulator-group-toggle {\\n  display: inline-block;\\n}\\n.tabulator-print-table .tabulator-print-table-group .tabulator-arrow {\\n  display: inline-block;\\n  width: 0;\\n  height: 0;\\n  margin-right: 16px;\\n  border-top: 6px solid transparent;\\n  border-bottom: 6px solid transparent;\\n  border-right: 0;\\n  border-left: 6px solid #666;\\n  vertical-align: middle;\\n}\\n.tabulator-print-table .tabulator-print-table-group span {\\n  margin-left: 10px;\\n  color: #d00;\\n}\\n.tabulator-print-table .tabulator-data-tree-control {\\n  display: inline-flex;\\n  justify-content: center;\\n  align-items: center;\\n  vertical-align: middle;\\n  height: 11px;\\n  width: 11px;\\n  margin-right: 5px;\\n  border: 1px solid var(--neutral-foreground-rest);\\n  border-radius: 2px;\\n  background: rgba(0, 0, 0, 0.1);\\n  overflow: hidden;\\n}\\n.tabulator-print-table .tabulator-data-tree-control:hover {\\n  cursor: pointer;\\n  background: rgba(0, 0, 0, 0.2);\\n}\\n.tabulator-print-table\\n  .tabulator-data-tree-control\\n  .tabulator-data-tree-control-collapse {\\n  display: inline-block;\\n  position: relative;\\n  height: 7px;\\n  width: 1px;\\n  background: transparent;\\n}\\n.tabulator-print-table\\n  .tabulator-data-tree-control\\n  .tabulator-data-tree-control-collapse:after {\\n  position: absolute;\\n  content: '';\\n  left: -3px;\\n  top: 3px;\\n  height: 1px;\\n  width: 7px;\\n  background: var(--neutral-foreground-rest);\\n}\\n.tabulator-print-table\\n  .tabulator-data-tree-control\\n  .tabulator-data-tree-control-expand {\\n  display: inline-block;\\n  position: relative;\\n  height: 7px;\\n  width: 1px;\\n  background: var(--neutral-foreground-rest);\\n}\\n.tabulator-print-table\\n  .tabulator-data-tree-control\\n  .tabulator-data-tree-control-expand:after {\\n  position: absolute;\\n  content: '';\\n  left: -3px;\\n  top: 3px;\\n  height: 1px;\\n  width: 7px;\\n  background: var(--neutral-foreground-rest);\\n}\\n\\n.tabulator {\\n  background-color: var(--fill-color);\\n}\\n.tabulator .tabulator-header .tabulator-col {\\n  background-color: var(--fill-color);\\n}\\n.tabulator\\n  .tabulator-header\\n  .tabulator-col\\n  .tabulator-col-content\\n  .tabulator-col-title\\n  .tabulator-title-editor {\\n  color: #fff;\\n}\\n.tabulator .tabulator-header .tabulator-col .tabulator-header-filter input,\\n.tabulator .tabulator-header .tabulator-col .tabulator-header-filter select {\\n  border: 1px solid #999;\\n  background: var(--neutral-fill-input-rest);\\n  color: var(--neutral-foreground-rest);\\n}\\n.tabulator .tabulator-header .tabulator-calcs-holder {\\n  background: var(--fill-color) !important;\\n}\\n.tabulator .tabulator-header .tabulator-calcs-holder .tabulator-row {\\n  background: var(--fill-color) !important;\\n}\\n.tabulator .tabulator-footer .tabulator-calcs-holder {\\n  background: var(--fill-color) !important;\\n}\\n.tabulator .tabulator-footer .tabulator-calcs-holder .tabulator-row {\\n  background: var(--fill-color) !important;\\n}\\n.tabulator .tabulator-footer .tabulator-paginator label {\\n  color: #fff;\\n}\\n.tabulator .tabulator-footer .tabulator-page-counter {\\n  color: #fff;\\n}\\n.tabulator .tabulator-footer .tabulator-page {\\n  color: var(--neutral-foreground-rest);\\n  font-family: inherit;\\n  font-weight: inherit;\\n  font-size: inherit;\\n}\\n\\n.tabulator-row.tabulator-group {\\n  min-width: 100%;\\n  color: #333;\\n}\\n.tabulator-row.tabulator-group:hover {\\n  cursor: pointer;\\n  background-color: rgba(0, 0, 0, 0.1);\\n}\\n.tabulator-row.tabulator-group span {\\n  color: #666;\\n}\\n\\n.tabulator-edit-select-list {\\n  background: var(--neutral-foreground-rest);\\n}\\n.tabulator-edit-select-list .tabulator-edit-select-list-item {\\n  color: var(--fill-color);\\n}\\n.tabulator-edit-select-list .tabulator-edit-select-list-item.active {\\n  color: #999;\\n  background: var(--neutral-fill-rest);\\n}\\n.tabulator-edit-select-list .tabulator-edit-select-list-item.active.focused {\\n  outline: 1px solid rgba(153, 153, 153, 0.5);\\n}\\n.tabulator-edit-select-list .tabulator-edit-select-list-item.focused {\\n  outline: 1px solid var(--neutral-fill-rest);\\n}\\n.tabulator-edit-select-list .tabulator-edit-select-list-item:hover {\\n  color: #999;\\n  background: var(--fill-color);\\n}\\n\\n.tabulator-print-table .tabulator-print-table-group {\\n  color: #333;\\n}\\n\");\n    },    function(Bokeh) {\n      Bokeh.set_log_level(\"info\");\n    },\nfunction(Bokeh) {} // ensure no trailing comma for IE\n  ];\n\n  function run_inline_js() {\n    if ((root.Bokeh !== undefined) || (force === true)) {\n      for (var i = 0; i < inline_js.length; i++) {\n        inline_js[i].call(root, root.Bokeh);\n      }\n      // Cache old bokeh versions\n      if (Bokeh != undefined && !reloading) {\n\tvar NewBokeh = root.Bokeh;\n\tif (Bokeh.versions === undefined) {\n\t  Bokeh.versions = new Map();\n\t}\n\tif (NewBokeh.version !== Bokeh.version) {\n\t  Bokeh.versions.set(NewBokeh.version, NewBokeh)\n\t}\n\troot.Bokeh = Bokeh;\n      }} else if (Date.now() < root._bokeh_timeout) {\n      setTimeout(run_inline_js, 100);\n    } else if (!root._bokeh_failed_load) {\n      console.log(\"Bokeh: BokehJS failed to load within specified timeout.\");\n      root._bokeh_failed_load = true;\n    }\n    root._bokeh_is_initializing = false\n  }\n\n  function load_or_wait() {\n    // Implement a backoff loop that tries to ensure we do not load multiple\n    // versions of Bokeh and its dependencies at the same time.\n    // In recent versions we use the root._bokeh_is_initializing flag\n    // to determine whether there is an ongoing attempt to initialize\n    // bokeh, however for backward compatibility we also try to ensure\n    // that we do not start loading a newer (Panel>=1.0 and Bokeh>3) version\n    // before older versions are fully initialized.\n    if (root._bokeh_is_initializing && Date.now() > root._bokeh_timeout) {\n      root._bokeh_is_initializing = false;\n      root._bokeh_onload_callbacks = undefined;\n      console.log(\"Bokeh: BokehJS was loaded multiple times but one version failed to initialize.\");\n      load_or_wait();\n    } else if (root._bokeh_is_initializing || (typeof root._bokeh_is_initializing === \"undefined\" && root._bokeh_onload_callbacks !== undefined)) {\n      setTimeout(load_or_wait, 100);\n    } else {\n      Bokeh = root.Bokeh;\n      bokeh_loaded = Bokeh != null && (Bokeh.version === py_version || (Bokeh.versions !== undefined && Bokeh.versions.has(py_version)));\n      root._bokeh_is_initializing = true\n      root._bokeh_onload_callbacks = []\n      if (!reloading && (!bokeh_loaded || is_dev)) {\n\troot.Bokeh = undefined;\n      }\n      load_libs(css_urls, js_urls, js_modules, js_exports, function() {\n\tconsole.debug(\"Bokeh: BokehJS plotting callback run at\", now());\n\trun_inline_js();\n      });\n    }\n  }\n  // Give older versions of the autoload script a head-start to ensure\n  // they initialize before we start loading newer version.\n  setTimeout(load_or_wait, 100)\n}(window));",
      "application/vnd.holoviews_load.v0+json": ""
     },
     "metadata": {},
     "output_type": "display_data"
    },
    {
     "data": {
      "application/javascript": "\nif ((window.PyViz === undefined) || (window.PyViz instanceof HTMLElement)) {\n  window.PyViz = {comms: {}, comm_status:{}, kernels:{}, receivers: {}, plot_index: []}\n}\n\n\n    function JupyterCommManager() {\n    }\n\n    JupyterCommManager.prototype.register_target = function(plot_id, comm_id, msg_handler) {\n      if (window.comm_manager || ((window.Jupyter !== undefined) && (Jupyter.notebook.kernel != null))) {\n        var comm_manager = window.comm_manager || Jupyter.notebook.kernel.comm_manager;\n        comm_manager.register_target(comm_id, function(comm) {\n          comm.on_msg(msg_handler);\n        });\n      } else if ((plot_id in window.PyViz.kernels) && (window.PyViz.kernels[plot_id])) {\n        window.PyViz.kernels[plot_id].registerCommTarget(comm_id, function(comm) {\n          comm.onMsg = msg_handler;\n        });\n      } else if (typeof google != 'undefined' && google.colab.kernel != null) {\n        google.colab.kernel.comms.registerTarget(comm_id, (comm) => {\n          var messages = comm.messages[Symbol.asyncIterator]();\n          function processIteratorResult(result) {\n            var message = result.value;\n            console.log(message)\n            var content = {data: message.data, comm_id};\n            var buffers = []\n            for (var buffer of message.buffers || []) {\n              buffers.push(new DataView(buffer))\n            }\n            var metadata = message.metadata || {};\n            var msg = {content, buffers, metadata}\n            msg_handler(msg);\n            return messages.next().then(processIteratorResult);\n          }\n          return messages.next().then(processIteratorResult);\n        })\n      }\n    }\n\n    JupyterCommManager.prototype.get_client_comm = function(plot_id, comm_id, msg_handler) {\n      if (comm_id in window.PyViz.comms) {\n        return window.PyViz.comms[comm_id];\n      } else if (window.comm_manager || ((window.Jupyter !== undefined) && (Jupyter.notebook.kernel != null))) {\n        var comm_manager = window.comm_manager || Jupyter.notebook.kernel.comm_manager;\n        var comm = comm_manager.new_comm(comm_id, {}, {}, {}, comm_id);\n        if (msg_handler) {\n          comm.on_msg(msg_handler);\n        }\n      } else if ((plot_id in window.PyViz.kernels) && (window.PyViz.kernels[plot_id])) {\n        var comm = window.PyViz.kernels[plot_id].connectToComm(comm_id);\n        comm.open();\n        if (msg_handler) {\n          comm.onMsg = msg_handler;\n        }\n      } else if (typeof google != 'undefined' && google.colab.kernel != null) {\n        var comm_promise = google.colab.kernel.comms.open(comm_id)\n        comm_promise.then((comm) => {\n          window.PyViz.comms[comm_id] = comm;\n          if (msg_handler) {\n            var messages = comm.messages[Symbol.asyncIterator]();\n            function processIteratorResult(result) {\n              var message = result.value;\n              var content = {data: message.data};\n              var metadata = message.metadata || {comm_id};\n              var msg = {content, metadata}\n              msg_handler(msg);\n              return messages.next().then(processIteratorResult);\n            }\n            return messages.next().then(processIteratorResult);\n          }\n        }) \n        var sendClosure = (data, metadata, buffers, disposeOnDone) => {\n          return comm_promise.then((comm) => {\n            comm.send(data, metadata, buffers, disposeOnDone);\n          });\n        };\n        var comm = {\n          send: sendClosure\n        };\n      }\n      window.PyViz.comms[comm_id] = comm;\n      return comm;\n    }\n    window.PyViz.comm_manager = new JupyterCommManager();\n    \n\n\nvar JS_MIME_TYPE = 'application/javascript';\nvar HTML_MIME_TYPE = 'text/html';\nvar EXEC_MIME_TYPE = 'application/vnd.holoviews_exec.v0+json';\nvar CLASS_NAME = 'output';\n\n/**\n * Render data to the DOM node\n */\nfunction render(props, node) {\n  var div = document.createElement(\"div\");\n  var script = document.createElement(\"script\");\n  node.appendChild(div);\n  node.appendChild(script);\n}\n\n/**\n * Handle when a new output is added\n */\nfunction handle_add_output(event, handle) {\n  var output_area = handle.output_area;\n  var output = handle.output;\n  if ((output.data == undefined) || (!output.data.hasOwnProperty(EXEC_MIME_TYPE))) {\n    return\n  }\n  var id = output.metadata[EXEC_MIME_TYPE][\"id\"];\n  var toinsert = output_area.element.find(\".\" + CLASS_NAME.split(' ')[0]);\n  if (id !== undefined) {\n    var nchildren = toinsert.length;\n    var html_node = toinsert[nchildren-1].children[0];\n    html_node.innerHTML = output.data[HTML_MIME_TYPE];\n    var scripts = [];\n    var nodelist = html_node.querySelectorAll(\"script\");\n    for (var i in nodelist) {\n      if (nodelist.hasOwnProperty(i)) {\n        scripts.push(nodelist[i])\n      }\n    }\n\n    scripts.forEach( function (oldScript) {\n      var newScript = document.createElement(\"script\");\n      var attrs = [];\n      var nodemap = oldScript.attributes;\n      for (var j in nodemap) {\n        if (nodemap.hasOwnProperty(j)) {\n          attrs.push(nodemap[j])\n        }\n      }\n      attrs.forEach(function(attr) { newScript.setAttribute(attr.name, attr.value) });\n      newScript.appendChild(document.createTextNode(oldScript.innerHTML));\n      oldScript.parentNode.replaceChild(newScript, oldScript);\n    });\n    if (JS_MIME_TYPE in output.data) {\n      toinsert[nchildren-1].children[1].textContent = output.data[JS_MIME_TYPE];\n    }\n    output_area._hv_plot_id = id;\n    if ((window.Bokeh !== undefined) && (id in Bokeh.index)) {\n      window.PyViz.plot_index[id] = Bokeh.index[id];\n    } else {\n      window.PyViz.plot_index[id] = null;\n    }\n  } else if (output.metadata[EXEC_MIME_TYPE][\"server_id\"] !== undefined) {\n    var bk_div = document.createElement(\"div\");\n    bk_div.innerHTML = output.data[HTML_MIME_TYPE];\n    var script_attrs = bk_div.children[0].attributes;\n    for (var i = 0; i < script_attrs.length; i++) {\n      toinsert[toinsert.length - 1].childNodes[1].setAttribute(script_attrs[i].name, script_attrs[i].value);\n    }\n    // store reference to server id on output_area\n    output_area._bokeh_server_id = output.metadata[EXEC_MIME_TYPE][\"server_id\"];\n  }\n}\n\n/**\n * Handle when an output is cleared or removed\n */\nfunction handle_clear_output(event, handle) {\n  var id = handle.cell.output_area._hv_plot_id;\n  var server_id = handle.cell.output_area._bokeh_server_id;\n  if (((id === undefined) || !(id in PyViz.plot_index)) && (server_id !== undefined)) { return; }\n  var comm = window.PyViz.comm_manager.get_client_comm(\"hv-extension-comm\", \"hv-extension-comm\", function () {});\n  if (server_id !== null) {\n    comm.send({event_type: 'server_delete', 'id': server_id});\n    return;\n  } else if (comm !== null) {\n    comm.send({event_type: 'delete', 'id': id});\n  }\n  delete PyViz.plot_index[id];\n  if ((window.Bokeh !== undefined) & (id in window.Bokeh.index)) {\n    var doc = window.Bokeh.index[id].model.document\n    doc.clear();\n    const i = window.Bokeh.documents.indexOf(doc);\n    if (i > -1) {\n      window.Bokeh.documents.splice(i, 1);\n    }\n  }\n}\n\n/**\n * Handle kernel restart event\n */\nfunction handle_kernel_cleanup(event, handle) {\n  delete PyViz.comms[\"hv-extension-comm\"];\n  window.PyViz.plot_index = {}\n}\n\n/**\n * Handle update_display_data messages\n */\nfunction handle_update_output(event, handle) {\n  handle_clear_output(event, {cell: {output_area: handle.output_area}})\n  handle_add_output(event, handle)\n}\n\nfunction register_renderer(events, OutputArea) {\n  function append_mime(data, metadata, element) {\n    // create a DOM node to render to\n    var toinsert = this.create_output_subarea(\n    metadata,\n    CLASS_NAME,\n    EXEC_MIME_TYPE\n    );\n    this.keyboard_manager.register_events(toinsert);\n    // Render to node\n    var props = {data: data, metadata: metadata[EXEC_MIME_TYPE]};\n    render(props, toinsert[0]);\n    element.append(toinsert);\n    return toinsert\n  }\n\n  events.on('output_added.OutputArea', handle_add_output);\n  events.on('output_updated.OutputArea', handle_update_output);\n  events.on('clear_output.CodeCell', handle_clear_output);\n  events.on('delete.Cell', handle_clear_output);\n  events.on('kernel_ready.Kernel', handle_kernel_cleanup);\n\n  OutputArea.prototype.register_mime_type(EXEC_MIME_TYPE, append_mime, {\n    safe: true,\n    index: 0\n  });\n}\n\nif (window.Jupyter !== undefined) {\n  try {\n    var events = require('base/js/events');\n    var OutputArea = require('notebook/js/outputarea').OutputArea;\n    if (OutputArea.prototype.mime_types().indexOf(EXEC_MIME_TYPE) == -1) {\n      register_renderer(events, OutputArea);\n    }\n  } catch(err) {\n  }\n}\n",
      "application/vnd.holoviews_load.v0+json": ""
     },
     "metadata": {},
     "output_type": "display_data"
    },
    {
     "data": {
      "text/html": [
       "<style>*[data-root-id],\n",
       "*[data-root-id] > * {\n",
       "  box-sizing: border-box;\n",
       "  font-family: var(--jp-ui-font-family);\n",
       "  font-size: var(--jp-ui-font-size1);\n",
       "  color: var(--vscode-editor-foreground, var(--jp-ui-font-color1));\n",
       "}\n",
       "\n",
       "/* Override VSCode background color */\n",
       ".cell-output-ipywidget-background:has(\n",
       "    > .cell-output-ipywidget-background > .lm-Widget > *[data-root-id]\n",
       "  ),\n",
       ".cell-output-ipywidget-background:has(> .lm-Widget > *[data-root-id]) {\n",
       "  background-color: transparent !important;\n",
       "}\n",
       "</style>"
      ]
     },
     "metadata": {},
     "output_type": "display_data"
    }
   ],
   "source": [
    "import numpy as np\n",
    "import pandas as pd \n",
    "import panel as pn \n",
    "pn.extension('tabulator')\n",
    "\n",
    "import hvplot.pandas\n"
   ]
  },
  {
   "cell_type": "code",
   "execution_count": 2,
   "metadata": {},
   "outputs": [],
   "source": [
    "df = pd.read_csv(\"https://raw.githubusercontent.com/owid/co2-data/master/owid-co2-data.csv\")\n"
   ]
  },
  {
   "cell_type": "code",
   "execution_count": 3,
   "metadata": {},
   "outputs": [
    {
     "data": {
      "text/html": [
       "<div>\n",
       "<style scoped>\n",
       "    .dataframe tbody tr th:only-of-type {\n",
       "        vertical-align: middle;\n",
       "    }\n",
       "\n",
       "    .dataframe tbody tr th {\n",
       "        vertical-align: top;\n",
       "    }\n",
       "\n",
       "    .dataframe thead th {\n",
       "        text-align: right;\n",
       "    }\n",
       "</style>\n",
       "<table border=\"1\" class=\"dataframe\">\n",
       "  <thead>\n",
       "    <tr style=\"text-align: right;\">\n",
       "      <th></th>\n",
       "      <th>country</th>\n",
       "      <th>year</th>\n",
       "      <th>iso_code</th>\n",
       "      <th>population</th>\n",
       "      <th>gdp</th>\n",
       "      <th>cement_co2</th>\n",
       "      <th>cement_co2_per_capita</th>\n",
       "      <th>co2</th>\n",
       "      <th>co2_growth_abs</th>\n",
       "      <th>co2_growth_prct</th>\n",
       "      <th>...</th>\n",
       "      <th>share_global_other_co2</th>\n",
       "      <th>share_of_temperature_change_from_ghg</th>\n",
       "      <th>temperature_change_from_ch4</th>\n",
       "      <th>temperature_change_from_co2</th>\n",
       "      <th>temperature_change_from_ghg</th>\n",
       "      <th>temperature_change_from_n2o</th>\n",
       "      <th>total_ghg</th>\n",
       "      <th>total_ghg_excluding_lucf</th>\n",
       "      <th>trade_co2</th>\n",
       "      <th>trade_co2_share</th>\n",
       "    </tr>\n",
       "  </thead>\n",
       "  <tbody>\n",
       "    <tr>\n",
       "      <th>0</th>\n",
       "      <td>Afghanistan</td>\n",
       "      <td>1850</td>\n",
       "      <td>AFG</td>\n",
       "      <td>3752993.0</td>\n",
       "      <td>NaN</td>\n",
       "      <td>NaN</td>\n",
       "      <td>NaN</td>\n",
       "      <td>NaN</td>\n",
       "      <td>NaN</td>\n",
       "      <td>NaN</td>\n",
       "      <td>...</td>\n",
       "      <td>NaN</td>\n",
       "      <td>NaN</td>\n",
       "      <td>NaN</td>\n",
       "      <td>NaN</td>\n",
       "      <td>NaN</td>\n",
       "      <td>NaN</td>\n",
       "      <td>NaN</td>\n",
       "      <td>NaN</td>\n",
       "      <td>NaN</td>\n",
       "      <td>NaN</td>\n",
       "    </tr>\n",
       "    <tr>\n",
       "      <th>1</th>\n",
       "      <td>Afghanistan</td>\n",
       "      <td>1851</td>\n",
       "      <td>AFG</td>\n",
       "      <td>3767956.0</td>\n",
       "      <td>NaN</td>\n",
       "      <td>NaN</td>\n",
       "      <td>NaN</td>\n",
       "      <td>NaN</td>\n",
       "      <td>NaN</td>\n",
       "      <td>NaN</td>\n",
       "      <td>...</td>\n",
       "      <td>NaN</td>\n",
       "      <td>0.165</td>\n",
       "      <td>0.000</td>\n",
       "      <td>0.000</td>\n",
       "      <td>0.000</td>\n",
       "      <td>0.0</td>\n",
       "      <td>NaN</td>\n",
       "      <td>NaN</td>\n",
       "      <td>NaN</td>\n",
       "      <td>NaN</td>\n",
       "    </tr>\n",
       "    <tr>\n",
       "      <th>2</th>\n",
       "      <td>Afghanistan</td>\n",
       "      <td>1852</td>\n",
       "      <td>AFG</td>\n",
       "      <td>3783940.0</td>\n",
       "      <td>NaN</td>\n",
       "      <td>NaN</td>\n",
       "      <td>NaN</td>\n",
       "      <td>NaN</td>\n",
       "      <td>NaN</td>\n",
       "      <td>NaN</td>\n",
       "      <td>...</td>\n",
       "      <td>NaN</td>\n",
       "      <td>0.164</td>\n",
       "      <td>0.000</td>\n",
       "      <td>0.000</td>\n",
       "      <td>0.000</td>\n",
       "      <td>0.0</td>\n",
       "      <td>NaN</td>\n",
       "      <td>NaN</td>\n",
       "      <td>NaN</td>\n",
       "      <td>NaN</td>\n",
       "    </tr>\n",
       "    <tr>\n",
       "      <th>3</th>\n",
       "      <td>Afghanistan</td>\n",
       "      <td>1853</td>\n",
       "      <td>AFG</td>\n",
       "      <td>3800954.0</td>\n",
       "      <td>NaN</td>\n",
       "      <td>NaN</td>\n",
       "      <td>NaN</td>\n",
       "      <td>NaN</td>\n",
       "      <td>NaN</td>\n",
       "      <td>NaN</td>\n",
       "      <td>...</td>\n",
       "      <td>NaN</td>\n",
       "      <td>0.164</td>\n",
       "      <td>0.000</td>\n",
       "      <td>0.000</td>\n",
       "      <td>0.000</td>\n",
       "      <td>0.0</td>\n",
       "      <td>NaN</td>\n",
       "      <td>NaN</td>\n",
       "      <td>NaN</td>\n",
       "      <td>NaN</td>\n",
       "    </tr>\n",
       "    <tr>\n",
       "      <th>4</th>\n",
       "      <td>Afghanistan</td>\n",
       "      <td>1854</td>\n",
       "      <td>AFG</td>\n",
       "      <td>3818038.0</td>\n",
       "      <td>NaN</td>\n",
       "      <td>NaN</td>\n",
       "      <td>NaN</td>\n",
       "      <td>NaN</td>\n",
       "      <td>NaN</td>\n",
       "      <td>NaN</td>\n",
       "      <td>...</td>\n",
       "      <td>NaN</td>\n",
       "      <td>0.163</td>\n",
       "      <td>0.000</td>\n",
       "      <td>0.000</td>\n",
       "      <td>0.000</td>\n",
       "      <td>0.0</td>\n",
       "      <td>NaN</td>\n",
       "      <td>NaN</td>\n",
       "      <td>NaN</td>\n",
       "      <td>NaN</td>\n",
       "    </tr>\n",
       "    <tr>\n",
       "      <th>...</th>\n",
       "      <td>...</td>\n",
       "      <td>...</td>\n",
       "      <td>...</td>\n",
       "      <td>...</td>\n",
       "      <td>...</td>\n",
       "      <td>...</td>\n",
       "      <td>...</td>\n",
       "      <td>...</td>\n",
       "      <td>...</td>\n",
       "      <td>...</td>\n",
       "      <td>...</td>\n",
       "      <td>...</td>\n",
       "      <td>...</td>\n",
       "      <td>...</td>\n",
       "      <td>...</td>\n",
       "      <td>...</td>\n",
       "      <td>...</td>\n",
       "      <td>...</td>\n",
       "      <td>...</td>\n",
       "      <td>...</td>\n",
       "      <td>...</td>\n",
       "    </tr>\n",
       "    <tr>\n",
       "      <th>48053</th>\n",
       "      <td>Zimbabwe</td>\n",
       "      <td>2018</td>\n",
       "      <td>ZWE</td>\n",
       "      <td>15052191.0</td>\n",
       "      <td>2.271535e+10</td>\n",
       "      <td>0.558</td>\n",
       "      <td>0.037</td>\n",
       "      <td>10.715</td>\n",
       "      <td>1.419</td>\n",
       "      <td>15.265</td>\n",
       "      <td>...</td>\n",
       "      <td>NaN</td>\n",
       "      <td>0.114</td>\n",
       "      <td>0.001</td>\n",
       "      <td>0.001</td>\n",
       "      <td>0.002</td>\n",
       "      <td>0.0</td>\n",
       "      <td>116.76</td>\n",
       "      <td>29.37</td>\n",
       "      <td>-0.088</td>\n",
       "      <td>-0.825</td>\n",
       "    </tr>\n",
       "    <tr>\n",
       "      <th>48054</th>\n",
       "      <td>Zimbabwe</td>\n",
       "      <td>2019</td>\n",
       "      <td>ZWE</td>\n",
       "      <td>15354606.0</td>\n",
       "      <td>NaN</td>\n",
       "      <td>0.473</td>\n",
       "      <td>0.031</td>\n",
       "      <td>9.775</td>\n",
       "      <td>-0.939</td>\n",
       "      <td>-8.765</td>\n",
       "      <td>...</td>\n",
       "      <td>NaN</td>\n",
       "      <td>0.113</td>\n",
       "      <td>0.001</td>\n",
       "      <td>0.001</td>\n",
       "      <td>0.002</td>\n",
       "      <td>0.0</td>\n",
       "      <td>116.03</td>\n",
       "      <td>28.70</td>\n",
       "      <td>0.143</td>\n",
       "      <td>1.463</td>\n",
       "    </tr>\n",
       "    <tr>\n",
       "      <th>48055</th>\n",
       "      <td>Zimbabwe</td>\n",
       "      <td>2020</td>\n",
       "      <td>ZWE</td>\n",
       "      <td>15669663.0</td>\n",
       "      <td>NaN</td>\n",
       "      <td>0.496</td>\n",
       "      <td>0.032</td>\n",
       "      <td>7.850</td>\n",
       "      <td>-1.926</td>\n",
       "      <td>-19.700</td>\n",
       "      <td>...</td>\n",
       "      <td>NaN</td>\n",
       "      <td>0.112</td>\n",
       "      <td>0.001</td>\n",
       "      <td>0.001</td>\n",
       "      <td>0.002</td>\n",
       "      <td>0.0</td>\n",
       "      <td>113.20</td>\n",
       "      <td>25.99</td>\n",
       "      <td>0.818</td>\n",
       "      <td>10.421</td>\n",
       "    </tr>\n",
       "    <tr>\n",
       "      <th>48056</th>\n",
       "      <td>Zimbabwe</td>\n",
       "      <td>2021</td>\n",
       "      <td>ZWE</td>\n",
       "      <td>15993525.0</td>\n",
       "      <td>NaN</td>\n",
       "      <td>0.531</td>\n",
       "      <td>0.033</td>\n",
       "      <td>8.396</td>\n",
       "      <td>0.547</td>\n",
       "      <td>6.962</td>\n",
       "      <td>...</td>\n",
       "      <td>NaN</td>\n",
       "      <td>0.111</td>\n",
       "      <td>0.001</td>\n",
       "      <td>0.001</td>\n",
       "      <td>0.002</td>\n",
       "      <td>0.0</td>\n",
       "      <td>NaN</td>\n",
       "      <td>NaN</td>\n",
       "      <td>1.088</td>\n",
       "      <td>12.956</td>\n",
       "    </tr>\n",
       "    <tr>\n",
       "      <th>48057</th>\n",
       "      <td>Zimbabwe</td>\n",
       "      <td>2022</td>\n",
       "      <td>ZWE</td>\n",
       "      <td>16320539.0</td>\n",
       "      <td>NaN</td>\n",
       "      <td>0.531</td>\n",
       "      <td>0.033</td>\n",
       "      <td>8.856</td>\n",
       "      <td>0.460</td>\n",
       "      <td>5.477</td>\n",
       "      <td>...</td>\n",
       "      <td>NaN</td>\n",
       "      <td>NaN</td>\n",
       "      <td>NaN</td>\n",
       "      <td>NaN</td>\n",
       "      <td>NaN</td>\n",
       "      <td>NaN</td>\n",
       "      <td>NaN</td>\n",
       "      <td>NaN</td>\n",
       "      <td>NaN</td>\n",
       "      <td>NaN</td>\n",
       "    </tr>\n",
       "  </tbody>\n",
       "</table>\n",
       "<p>48058 rows × 79 columns</p>\n",
       "</div>"
      ],
      "text/plain": [
       "           country  year iso_code  population           gdp  cement_co2  \\\n",
       "0      Afghanistan  1850      AFG   3752993.0           NaN         NaN   \n",
       "1      Afghanistan  1851      AFG   3767956.0           NaN         NaN   \n",
       "2      Afghanistan  1852      AFG   3783940.0           NaN         NaN   \n",
       "3      Afghanistan  1853      AFG   3800954.0           NaN         NaN   \n",
       "4      Afghanistan  1854      AFG   3818038.0           NaN         NaN   \n",
       "...            ...   ...      ...         ...           ...         ...   \n",
       "48053     Zimbabwe  2018      ZWE  15052191.0  2.271535e+10       0.558   \n",
       "48054     Zimbabwe  2019      ZWE  15354606.0           NaN       0.473   \n",
       "48055     Zimbabwe  2020      ZWE  15669663.0           NaN       0.496   \n",
       "48056     Zimbabwe  2021      ZWE  15993525.0           NaN       0.531   \n",
       "48057     Zimbabwe  2022      ZWE  16320539.0           NaN       0.531   \n",
       "\n",
       "       cement_co2_per_capita     co2  co2_growth_abs  co2_growth_prct  ...  \\\n",
       "0                        NaN     NaN             NaN              NaN  ...   \n",
       "1                        NaN     NaN             NaN              NaN  ...   \n",
       "2                        NaN     NaN             NaN              NaN  ...   \n",
       "3                        NaN     NaN             NaN              NaN  ...   \n",
       "4                        NaN     NaN             NaN              NaN  ...   \n",
       "...                      ...     ...             ...              ...  ...   \n",
       "48053                  0.037  10.715           1.419           15.265  ...   \n",
       "48054                  0.031   9.775          -0.939           -8.765  ...   \n",
       "48055                  0.032   7.850          -1.926          -19.700  ...   \n",
       "48056                  0.033   8.396           0.547            6.962  ...   \n",
       "48057                  0.033   8.856           0.460            5.477  ...   \n",
       "\n",
       "       share_global_other_co2  share_of_temperature_change_from_ghg  \\\n",
       "0                         NaN                                   NaN   \n",
       "1                         NaN                                 0.165   \n",
       "2                         NaN                                 0.164   \n",
       "3                         NaN                                 0.164   \n",
       "4                         NaN                                 0.163   \n",
       "...                       ...                                   ...   \n",
       "48053                     NaN                                 0.114   \n",
       "48054                     NaN                                 0.113   \n",
       "48055                     NaN                                 0.112   \n",
       "48056                     NaN                                 0.111   \n",
       "48057                     NaN                                   NaN   \n",
       "\n",
       "       temperature_change_from_ch4  temperature_change_from_co2  \\\n",
       "0                              NaN                          NaN   \n",
       "1                            0.000                        0.000   \n",
       "2                            0.000                        0.000   \n",
       "3                            0.000                        0.000   \n",
       "4                            0.000                        0.000   \n",
       "...                            ...                          ...   \n",
       "48053                        0.001                        0.001   \n",
       "48054                        0.001                        0.001   \n",
       "48055                        0.001                        0.001   \n",
       "48056                        0.001                        0.001   \n",
       "48057                          NaN                          NaN   \n",
       "\n",
       "       temperature_change_from_ghg  temperature_change_from_n2o  total_ghg  \\\n",
       "0                              NaN                          NaN        NaN   \n",
       "1                            0.000                          0.0        NaN   \n",
       "2                            0.000                          0.0        NaN   \n",
       "3                            0.000                          0.0        NaN   \n",
       "4                            0.000                          0.0        NaN   \n",
       "...                            ...                          ...        ...   \n",
       "48053                        0.002                          0.0     116.76   \n",
       "48054                        0.002                          0.0     116.03   \n",
       "48055                        0.002                          0.0     113.20   \n",
       "48056                        0.002                          0.0        NaN   \n",
       "48057                          NaN                          NaN        NaN   \n",
       "\n",
       "       total_ghg_excluding_lucf  trade_co2  trade_co2_share  \n",
       "0                           NaN        NaN              NaN  \n",
       "1                           NaN        NaN              NaN  \n",
       "2                           NaN        NaN              NaN  \n",
       "3                           NaN        NaN              NaN  \n",
       "4                           NaN        NaN              NaN  \n",
       "...                         ...        ...              ...  \n",
       "48053                     29.37     -0.088           -0.825  \n",
       "48054                     28.70      0.143            1.463  \n",
       "48055                     25.99      0.818           10.421  \n",
       "48056                       NaN      1.088           12.956  \n",
       "48057                       NaN        NaN              NaN  \n",
       "\n",
       "[48058 rows x 79 columns]"
      ]
     },
     "execution_count": 3,
     "metadata": {},
     "output_type": "execute_result"
    }
   ],
   "source": [
    "df"
   ]
  },
  {
   "cell_type": "code",
   "execution_count": 4,
   "metadata": {},
   "outputs": [],
   "source": [
    "\n",
    "# cache data to improve dashboard performance\n",
    "if 'data' not in pn.state.cache.keys():\n",
    "\n",
    "    df = pd.read_csv('https://raw.githubusercontent.com/owid/co2-data/master/owid-co2-data.csv')\n",
    "\n",
    "    pn.state.cache['data'] = df.copy()\n",
    "\n",
    "else: \n",
    "\n",
    "    df = pn.state.cache['data']"
   ]
  },
  {
   "cell_type": "markdown",
   "metadata": {},
   "source": [
    "Data mining"
   ]
  },
  {
   "cell_type": "code",
   "execution_count": 5,
   "metadata": {},
   "outputs": [],
   "source": [
    "# Fill NAs with 0s and create GDP per capita column\n",
    "df = df.fillna(0)\n",
    "df['gdp_per_capita'] = np.where(df['population']!= 0, df['gdp']/ df['population'], 0)\n",
    "\n",
    "\n",
    "# Make DataFrame Pipeline Interactive\n",
    "idf = df.interactive()"
   ]
  },
  {
   "cell_type": "markdown",
   "metadata": {},
   "source": [
    "# Building Slider"
   ]
  },
  {
   "cell_type": "code",
   "execution_count": 6,
   "metadata": {},
   "outputs": [
    {
     "data": {
      "application/vnd.jupyter.widget-view+json": {
       "model_id": "d553c314fc3d4ae084c1aa9cecc7d148",
       "version_major": 2,
       "version_minor": 0
      },
      "text/plain": [
       "BokehModel(combine_events=True, render_bundle={'docs_json': {'93e8f029-a860-4480-960e-e38c410a2aa0': {'version…"
      ]
     },
     "execution_count": 6,
     "metadata": {},
     "output_type": "execute_result"
    }
   ],
   "source": [
    "\n",
    "# pip install jupyter_bokeh\n",
    "\n",
    "# Define Panel widgets\n",
    "year_slider = pn.widgets.IntSlider(name='Year slider', start=1750, end=2020, step=5, value=1850)\n",
    "year_slider"
   ]
  },
  {
   "cell_type": "markdown",
   "metadata": {},
   "source": [
    "# Radio buttons for CO2 measures\n"
   ]
  },
  {
   "cell_type": "code",
   "execution_count": 9,
   "metadata": {},
   "outputs": [],
   "source": [
    "yaxis_co2 = pn.widgets.RadioButtonGroup(\n",
    "    name='Y axis', \n",
    "    options=['co2', 'co2_per_capita',],\n",
    "    button_type='success'\n",
    ")\n",
    "\n",
    "\n",
    "continents = ['World', 'Asia', 'Oceania', 'Europe', 'Africa', 'North America', 'South America', 'Antarctica']\n",
    "\n",
    "co2_pipeline = (\n",
    "    idf[\n",
    "        (idf.year <= year_slider) &\n",
    "        (idf.country.isin(continents))\n",
    "    ]\n",
    "    .groupby(['country', 'year'])[yaxis_co2].mean()\n",
    "    .to_frame()\n",
    "    .reset_index()\n",
    "    .sort_values(by='year')  \n",
    "    .reset_index(drop=True)\n",
    ")"
   ]
  },
  {
   "cell_type": "code",
   "execution_count": 10,
   "metadata": {},
   "outputs": [
    {
     "name": "stderr",
     "output_type": "stream",
     "text": [
      "/Library/Frameworks/Python.framework/Versions/3.11/lib/python3.11/site-packages/holoviews/core/data/pandas.py:39: FutureWarning: Series.__getitem__ treating keys as positions is deprecated. In a future version, integer keys will always be treated as labels (consistent with DataFrame behavior). To access a value by position, use `ser.iloc[pos]`\n",
      "  return dataset.data.dtypes[idx].type\n",
      "/Library/Frameworks/Python.framework/Versions/3.11/lib/python3.11/site-packages/holoviews/core/data/pandas.py:39: FutureWarning: Series.__getitem__ treating keys as positions is deprecated. In a future version, integer keys will always be treated as labels (consistent with DataFrame behavior). To access a value by position, use `ser.iloc[pos]`\n",
      "  return dataset.data.dtypes[idx].type\n"
     ]
    },
    {
     "data": {
      "application/vnd.jupyter.widget-view+json": {
       "model_id": "82fad4ac49a6481b809f7a52dbc3ea60",
       "version_major": 2,
       "version_minor": 0
      },
      "text/plain": [
       "BokehModel(combine_events=True, render_bundle={'docs_json': {'bbe6e593-20b8-4b6a-bb62-69f1137b46c1': {'version…"
      ]
     },
     "execution_count": 10,
     "metadata": {},
     "output_type": "execute_result"
    }
   ],
   "source": [
    "co2_plot = co2_pipeline.hvplot(x = 'year', by='country', y=yaxis_co2,line_width=2, title=\"CO2 emission by continent\")\n",
    "co2_plot"
   ]
  },
  {
   "cell_type": "markdown",
   "metadata": {},
   "source": [
    "# Table - CO2 emission over time by continent"
   ]
  },
  {
   "cell_type": "code",
   "execution_count": 12,
   "metadata": {},
   "outputs": [
    {
     "data": {
      "application/vnd.jupyter.widget-view+json": {
       "model_id": "00b790559a154cbab93de3598ca57fa0",
       "version_major": 2,
       "version_minor": 0
      },
      "text/plain": [
       "BokehModel(combine_events=True, render_bundle={'docs_json': {'611e09ec-bcfb-49e8-8337-c140b6a30eea': {'version…"
      ]
     },
     "execution_count": 12,
     "metadata": {},
     "output_type": "execute_result"
    }
   ],
   "source": [
    "co2_table = co2_pipeline.pipe(pn.widgets.Tabulator, pagination='remote', page_size = 10, sizing_mode='stretch_width') \n",
    "co2_table"
   ]
  },
  {
   "cell_type": "code",
   "execution_count": 14,
   "metadata": {},
   "outputs": [],
   "source": [
    "co2_vs_gdp_scatterplot_pipeline = (\n",
    "    idf[\n",
    "        (idf.year == year_slider) &\n",
    "        (~ (idf.country.isin(continents)))\n",
    "    ]\n",
    "    .groupby(['country', 'year', 'gdp_per_capita'])['co2'].mean()\n",
    "    .to_frame()\n",
    "    .reset_index()\n",
    "    .sort_values(by='year')  \n",
    "    .reset_index(drop=True)\n",
    ")"
   ]
  },
  {
   "cell_type": "code",
   "execution_count": 15,
   "metadata": {},
   "outputs": [
    {
     "data": {
      "application/vnd.jupyter.widget-view+json": {
       "model_id": "19951966109b4fcabc23ca958b03ce00",
       "version_major": 2,
       "version_minor": 0
      },
      "text/plain": [
       "BokehModel(combine_events=True, render_bundle={'docs_json': {'00d815ec-c0ba-46c2-86b5-5a99c2dd11ad': {'version…"
      ]
     },
     "execution_count": 15,
     "metadata": {},
     "output_type": "execute_result"
    }
   ],
   "source": [
    "co2_vs_gdp_scatterplot_pipeline"
   ]
  },
  {
   "cell_type": "code",
   "execution_count": 16,
   "metadata": {},
   "outputs": [
    {
     "name": "stderr",
     "output_type": "stream",
     "text": [
      "/Library/Frameworks/Python.framework/Versions/3.11/lib/python3.11/site-packages/holoviews/core/data/pandas.py:39: FutureWarning: Series.__getitem__ treating keys as positions is deprecated. In a future version, integer keys will always be treated as labels (consistent with DataFrame behavior). To access a value by position, use `ser.iloc[pos]`\n",
      "  return dataset.data.dtypes[idx].type\n",
      "/Library/Frameworks/Python.framework/Versions/3.11/lib/python3.11/site-packages/holoviews/core/data/pandas.py:39: FutureWarning: Series.__getitem__ treating keys as positions is deprecated. In a future version, integer keys will always be treated as labels (consistent with DataFrame behavior). To access a value by position, use `ser.iloc[pos]`\n",
      "  return dataset.data.dtypes[idx].type\n"
     ]
    },
    {
     "data": {
      "application/vnd.jupyter.widget-view+json": {
       "model_id": "30b2d639e8ef4465b2a7ffa840d80eb5",
       "version_major": 2,
       "version_minor": 0
      },
      "text/plain": [
       "BokehModel(combine_events=True, render_bundle={'docs_json': {'12547714-1851-496d-afb7-b55d23a25dab': {'version…"
      ]
     },
     "execution_count": 16,
     "metadata": {},
     "output_type": "execute_result"
    }
   ],
   "source": [
    "co2_vs_gdp_scatterplot = co2_vs_gdp_scatterplot_pipeline.hvplot(x='gdp_per_capita', \n",
    "                                                                y='co2', \n",
    "                                                                by='country', \n",
    "                                                                size=80, kind=\"scatter\", \n",
    "                                                                alpha=0.7,\n",
    "                                                                legend=False, \n",
    "                                                                height=500, \n",
    "                                                                width=500)\n",
    "\n",
    "co2_vs_gdp_scatterplot"
   ]
  },
  {
   "cell_type": "markdown",
   "metadata": {},
   "source": [
    "# Bar chart with CO2 sources by continent\n"
   ]
  },
  {
   "cell_type": "code",
   "execution_count": 18,
   "metadata": {},
   "outputs": [],
   "source": [
    "yaxis_co2_source = pn.widgets.RadioButtonGroup(\n",
    "    name='Y axis', \n",
    "    options=['coal_co2', 'oil_co2', 'gas_co2'], \n",
    "    button_type='success'\n",
    ")\n",
    "\n",
    "continents_excl_world = ['Asia', 'Oceania', 'Europe', 'Africa', 'North America', 'South America', 'Antarctica']\n",
    "\n",
    "co2_source_bar_pipeline = (\n",
    "    idf[\n",
    "        (idf.year == year_slider) &\n",
    "        (idf.country.isin(continents_excl_world))\n",
    "    ]\n",
    "    .groupby(['year', 'country'])[yaxis_co2_source].sum()\n",
    "    .to_frame()\n",
    "    .reset_index()\n",
    "    .sort_values(by='year')  \n",
    "    .reset_index(drop=True)\n",
    ")"
   ]
  },
  {
   "cell_type": "code",
   "execution_count": 19,
   "metadata": {},
   "outputs": [
    {
     "name": "stderr",
     "output_type": "stream",
     "text": [
      "/Library/Frameworks/Python.framework/Versions/3.11/lib/python3.11/site-packages/holoviews/core/util.py:1175: FutureWarning: unique with argument that is not not a Series, Index, ExtensionArray, or np.ndarray is deprecated and will raise in a future version.\n",
      "  return pd.unique(values)\n",
      "/Library/Frameworks/Python.framework/Versions/3.11/lib/python3.11/site-packages/holoviews/core/util.py:1175: FutureWarning: unique with argument that is not not a Series, Index, ExtensionArray, or np.ndarray is deprecated and will raise in a future version.\n",
      "  return pd.unique(values)\n",
      "/Library/Frameworks/Python.framework/Versions/3.11/lib/python3.11/site-packages/holoviews/core/data/pandas.py:39: FutureWarning: Series.__getitem__ treating keys as positions is deprecated. In a future version, integer keys will always be treated as labels (consistent with DataFrame behavior). To access a value by position, use `ser.iloc[pos]`\n",
      "  return dataset.data.dtypes[idx].type\n"
     ]
    },
    {
     "data": {
      "application/vnd.jupyter.widget-view+json": {
       "model_id": "1806af1256184af1adb37c2cea029c0f",
       "version_major": 2,
       "version_minor": 0
      },
      "text/plain": [
       "BokehModel(combine_events=True, render_bundle={'docs_json': {'4b93a5b4-dc79-4e52-93f2-635661482306': {'version…"
      ]
     },
     "execution_count": 19,
     "metadata": {},
     "output_type": "execute_result"
    }
   ],
   "source": [
    "co2_source_bar_plot = co2_source_bar_pipeline.hvplot(kind='bar', \n",
    "                                                     x='country', \n",
    "                                                     y=yaxis_co2_source, \n",
    "                                                     title='CO2 source by continent')\n",
    "\n",
    "co2_source_bar_plot"
   ]
  },
  {
   "cell_type": "markdown",
   "metadata": {},
   "source": [
    "# Creating Dashboard"
   ]
  },
  {
   "cell_type": "code",
   "execution_count": 23,
   "metadata": {},
   "outputs": [],
   "source": [
    "template = pn.template.FastListTemplate(\n",
    "    title='World CO2 emission dashboard', \n",
    "    sidebar=[pn.pane.Markdown(\"# CO2 Emissions and Climate Change\"), \n",
    "             pn.pane.Markdown(\"#### Carbon dioxide emissions are the primary driver of global climate change. It’s widely recognised that to avoid the worst impacts of climate change, the world needs to urgently reduce emissions. But, how this responsibility is shared between regions, countries, and individuals has been an endless point of contention in international discussions.\"), \n",
    "             pn.pane.PNG('climate_day.png', sizing_mode='scale_both'),\n",
    "             pn.pane.Markdown(\"## Settings\"),   \n",
    "             year_slider],\n",
    "    main=[pn.Row(pn.Column(yaxis_co2, \n",
    "                           co2_plot.panel(width=700), margin=(0,25)), \n",
    "                 co2_table.panel(width=500)), \n",
    "          pn.Row(pn.Column(co2_vs_gdp_scatterplot.panel(width=600), margin=(0,25)), \n",
    "                 pn.Column(yaxis_co2_source, co2_source_bar_plot.panel(width=600)))],\n",
    "    accent_base_color=\"#88d8b0\",\n",
    "    header_background=\"#88d8b0\",\n",
    ")\n"
   ]
  },
  {
   "cell_type": "code",
   "execution_count": 24,
   "metadata": {},
   "outputs": [
    {
     "name": "stdout",
     "output_type": "stream",
     "text": [
      "Launching server at http://localhost:58852\n"
     ]
    },
    {
     "name": "stderr",
     "output_type": "stream",
     "text": [
      "/Library/Frameworks/Python.framework/Versions/3.11/lib/python3.11/site-packages/holoviews/core/data/pandas.py:39: FutureWarning: Series.__getitem__ treating keys as positions is deprecated. In a future version, integer keys will always be treated as labels (consistent with DataFrame behavior). To access a value by position, use `ser.iloc[pos]`\n",
      "  return dataset.data.dtypes[idx].type\n",
      "/Library/Frameworks/Python.framework/Versions/3.11/lib/python3.11/site-packages/holoviews/core/data/pandas.py:39: FutureWarning: Series.__getitem__ treating keys as positions is deprecated. In a future version, integer keys will always be treated as labels (consistent with DataFrame behavior). To access a value by position, use `ser.iloc[pos]`\n",
      "  return dataset.data.dtypes[idx].type\n",
      "/Library/Frameworks/Python.framework/Versions/3.11/lib/python3.11/site-packages/holoviews/core/data/pandas.py:39: FutureWarning: Series.__getitem__ treating keys as positions is deprecated. In a future version, integer keys will always be treated as labels (consistent with DataFrame behavior). To access a value by position, use `ser.iloc[pos]`\n",
      "  return dataset.data.dtypes[idx].type\n",
      "/Library/Frameworks/Python.framework/Versions/3.11/lib/python3.11/site-packages/holoviews/core/data/pandas.py:39: FutureWarning: Series.__getitem__ treating keys as positions is deprecated. In a future version, integer keys will always be treated as labels (consistent with DataFrame behavior). To access a value by position, use `ser.iloc[pos]`\n",
      "  return dataset.data.dtypes[idx].type\n",
      "/Library/Frameworks/Python.framework/Versions/3.11/lib/python3.11/site-packages/holoviews/core/util.py:1175: FutureWarning: unique with argument that is not not a Series, Index, ExtensionArray, or np.ndarray is deprecated and will raise in a future version.\n",
      "  return pd.unique(values)\n",
      "/Library/Frameworks/Python.framework/Versions/3.11/lib/python3.11/site-packages/holoviews/core/util.py:1175: FutureWarning: unique with argument that is not not a Series, Index, ExtensionArray, or np.ndarray is deprecated and will raise in a future version.\n",
      "  return pd.unique(values)\n",
      "/Library/Frameworks/Python.framework/Versions/3.11/lib/python3.11/site-packages/holoviews/core/data/pandas.py:39: FutureWarning: Series.__getitem__ treating keys as positions is deprecated. In a future version, integer keys will always be treated as labels (consistent with DataFrame behavior). To access a value by position, use `ser.iloc[pos]`\n",
      "  return dataset.data.dtypes[idx].type\n",
      "WARNING:bokeh.core.validation.check:W-1005 (FIXED_SIZING_MODE): 'fixed' sizing mode requires width and height to be set: Column(id='ad24c10f-5361-4f85-8950-e70a7d389903', ...)\n",
      "WARNING:bokeh.core.validation.check:W-1005 (FIXED_SIZING_MODE): 'fixed' sizing mode requires width and height to be set: Column(id='6b273490-9eae-49a4-b4b5-367bca0675dd', ...)\n",
      "WARNING:bokeh.core.validation.check:W-1005 (FIXED_SIZING_MODE): 'fixed' sizing mode requires width and height to be set: Column(id='89e2f60b-ef3c-45b4-8543-a5a426cf800e', ...)\n",
      "/Library/Frameworks/Python.framework/Versions/3.11/lib/python3.11/site-packages/holoviews/core/data/pandas.py:39: FutureWarning: Series.__getitem__ treating keys as positions is deprecated. In a future version, integer keys will always be treated as labels (consistent with DataFrame behavior). To access a value by position, use `ser.iloc[pos]`\n",
      "  return dataset.data.dtypes[idx].type\n",
      "/Library/Frameworks/Python.framework/Versions/3.11/lib/python3.11/site-packages/holoviews/core/data/pandas.py:39: FutureWarning: Series.__getitem__ treating keys as positions is deprecated. In a future version, integer keys will always be treated as labels (consistent with DataFrame behavior). To access a value by position, use `ser.iloc[pos]`\n",
      "  return dataset.data.dtypes[idx].type\n",
      "/Library/Frameworks/Python.framework/Versions/3.11/lib/python3.11/site-packages/holoviews/core/data/pandas.py:39: FutureWarning: Series.__getitem__ treating keys as positions is deprecated. In a future version, integer keys will always be treated as labels (consistent with DataFrame behavior). To access a value by position, use `ser.iloc[pos]`\n",
      "  return dataset.data.dtypes[idx].type\n",
      "/Library/Frameworks/Python.framework/Versions/3.11/lib/python3.11/site-packages/holoviews/core/data/pandas.py:39: FutureWarning: Series.__getitem__ treating keys as positions is deprecated. In a future version, integer keys will always be treated as labels (consistent with DataFrame behavior). To access a value by position, use `ser.iloc[pos]`\n",
      "  return dataset.data.dtypes[idx].type\n",
      "/Library/Frameworks/Python.framework/Versions/3.11/lib/python3.11/site-packages/holoviews/core/util.py:1175: FutureWarning: unique with argument that is not not a Series, Index, ExtensionArray, or np.ndarray is deprecated and will raise in a future version.\n",
      "  return pd.unique(values)\n",
      "/Library/Frameworks/Python.framework/Versions/3.11/lib/python3.11/site-packages/holoviews/core/util.py:1175: FutureWarning: unique with argument that is not not a Series, Index, ExtensionArray, or np.ndarray is deprecated and will raise in a future version.\n",
      "  return pd.unique(values)\n",
      "/Library/Frameworks/Python.framework/Versions/3.11/lib/python3.11/site-packages/holoviews/core/data/pandas.py:39: FutureWarning: Series.__getitem__ treating keys as positions is deprecated. In a future version, integer keys will always be treated as labels (consistent with DataFrame behavior). To access a value by position, use `ser.iloc[pos]`\n",
      "  return dataset.data.dtypes[idx].type\n",
      "WARNING:bokeh.core.validation.check:W-1005 (FIXED_SIZING_MODE): 'fixed' sizing mode requires width and height to be set: Column(id='64b1f1af-827e-45e4-8970-08a12475a88a', ...)\n",
      "WARNING:bokeh.core.validation.check:W-1005 (FIXED_SIZING_MODE): 'fixed' sizing mode requires width and height to be set: Column(id='94087959-9d5d-4571-8512-9aaf330fb61d', ...)\n",
      "WARNING:bokeh.core.validation.check:W-1005 (FIXED_SIZING_MODE): 'fixed' sizing mode requires width and height to be set: Column(id='bcf7c0f1-c722-4eab-9729-98a69fca304e', ...)\n"
     ]
    }
   ],
   "source": [
    "template.show()\n",
    "template.servable();"
   ]
  }
 ],
 "metadata": {
  "kernelspec": {
   "display_name": "Python 3",
   "language": "python",
   "name": "python3"
  },
  "language_info": {
   "codemirror_mode": {
    "name": "ipython",
    "version": 3
   },
   "file_extension": ".py",
   "mimetype": "text/x-python",
   "name": "python",
   "nbconvert_exporter": "python",
   "pygments_lexer": "ipython3",
   "version": "3.11.2"
  }
 },
 "nbformat": 4,
 "nbformat_minor": 2
}
